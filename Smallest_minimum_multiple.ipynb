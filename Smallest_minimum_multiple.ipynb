{
  "nbformat": 4,
  "nbformat_minor": 0,
  "metadata": {
    "colab": {
      "provenance": [],
      "authorship_tag": "ABX9TyPZ/be47lcfGYUKf1Qg9JCR",
      "include_colab_link": true
    },
    "kernelspec": {
      "name": "python3",
      "display_name": "Python 3"
    },
    "language_info": {
      "name": "python"
    }
  },
  "cells": [
    {
      "cell_type": "markdown",
      "metadata": {
        "id": "view-in-github",
        "colab_type": "text"
      },
      "source": [
        "<a href=\"https://colab.research.google.com/github/leobioinf0/00-app_project/blob/main/Smallest_minimum_multiple.ipynb\" target=\"_parent\"><img src=\"https://colab.research.google.com/assets/colab-badge.svg\" alt=\"Open In Colab\"/></a>"
      ]
    },
    {
      "cell_type": "markdown",
      "source": [
        "# Smallest minimum multiple\n",
        "\n",
        "- 2520 is the smallest number that can be divided by each of the numbers from 1 to 10 without any remainder.\n",
        "\n",
        "- What is the smallest positive number that is evenly divisible by all of the numbers from 1 to 20?"
      ],
      "metadata": {
        "id": "54mAFMLZFG6N"
      }
    },
    {
      "cell_type": "code",
      "execution_count": null,
      "metadata": {
        "id": "bLCGWXtQErV2"
      },
      "outputs": [],
      "source": [
        "def get_smallest_min_multiple():\n",
        "    i = 1\n",
        "    while True:\n",
        "        if [i%1,i%2,i%3,i%4,i%5,i%6,i%7,i%8,i%9,i%10,i%11,i%12,i%13,i%14,i%15,i%16,i%17,i%18,i%19,i%20].count(0)==20:\n",
        "            break\n",
        "        i += 1\n",
        "    return(i)"
      ]
    },
    {
      "cell_type": "code",
      "source": [
        "# aprox 4 minunes un colab\n",
        "get_smallest_min_multiple()"
      ],
      "metadata": {
        "colab": {
          "base_uri": "https://localhost:8080/"
        },
        "id": "bdD5DXkTE2WQ",
        "outputId": "6e5fb04f-002e-4cf7-c1bf-a33b6a7574e9"
      },
      "execution_count": null,
      "outputs": [
        {
          "output_type": "execute_result",
          "data": {
            "text/plain": [
              "232792560"
            ]
          },
          "metadata": {},
          "execution_count": 2
        }
      ]
    }
  ]
}