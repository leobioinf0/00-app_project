{
  "nbformat": 4,
  "nbformat_minor": 0,
  "metadata": {
    "colab": {
      "name": "00-app_project.ipynb",
      "provenance": [],
      "collapsed_sections": [
        "NZAqYtVQV4kT",
        "vXXMAYz5_WN2",
        "l4wcVoqkt_-7"
      ],
      "mount_file_id": "1qeBjjNFoE-BGuk4hS2R1pJOhu0sTVE6p",
      "authorship_tag": "ABX9TyOCjJNBvMCHGKLNSx9C9CYv",
      "include_colab_link": true
    },
    "kernelspec": {
      "name": "python3",
      "display_name": "Python 3"
    },
    "language_info": {
      "name": "python"
    }
  },
  "cells": [
    {
      "cell_type": "markdown",
      "metadata": {
        "id": "view-in-github",
        "colab_type": "text"
      },
      "source": [
        "<a href=\"https://colab.research.google.com/github/leobioinf0/00-app_project/blob/main/00_app_project.ipynb\" target=\"_parent\"><img src=\"https://colab.research.google.com/assets/colab-badge.svg\" alt=\"Open In Colab\"/></a>"
      ]
    },
    {
      "cell_type": "code",
      "source": [
        "%pip install -U veryfi\n",
        "%pip install openrouteservice"
      ],
      "metadata": {
        "id": "EyWVoaMZpaUw"
      },
      "execution_count": null,
      "outputs": []
    },
    {
      "cell_type": "markdown",
      "source": [
        "## import"
      ],
      "metadata": {
        "id": "zPKPDcQ5VXC2"
      }
    },
    {
      "cell_type": "code",
      "source": [
        "from os.path import isfile, join\n",
        "import openrouteservice as ors\n",
        "import folium\n",
        "from os import listdir\n",
        "from veryfi import Client\n",
        "import re\n",
        "import pandas as pd\n",
        "from veryfi import Client\n",
        "import json\n",
        "import os\n",
        "import numpy as np \n",
        "import seaborn as sns \n",
        "\n",
        "from datetime import timedelta\n",
        "from scipy import stats\n",
        "\n",
        "from sklearn.preprocessing import StandardScaler\n",
        "from sklearn.cluster import KMeans\n",
        "import matplotlib.pyplot as plt"
      ],
      "metadata": {
        "id": "UBAw5yJu_mXA"
      },
      "execution_count": 21,
      "outputs": []
    },
    {
      "cell_type": "markdown",
      "source": [
        "## funct"
      ],
      "metadata": {
        "id": "3KuY55EqVbES"
      }
    },
    {
      "cell_type": "code",
      "source": [
        "def mk_dir(name):\n",
        "    '''crear el directorio con el nombre que le pasas'''\n",
        "    path = os.path.join(os.getcwd(), name)\n",
        "    if not os.path.exists(path):\n",
        "        try:\n",
        "            os.makedirs(path, 0o700)\n",
        "        except OSError as e:\n",
        "            if e.errno != errno.EEXIST:\n",
        "                raise\n",
        "        print(\"Directorio creado: {}\".format(path))\n",
        "    else:\n",
        "        print(\"Directorio ya existente: {}\".format(path))\n",
        "    return path\n",
        "\n",
        "def get_resp(response):\n",
        "    #print(response[\"bill_to\"][\"name\"])\n",
        "    print(\"Total:\\t{}\".format(response[\"total\"]))\n",
        "    print(\"Divisa:\\t{}\".format(response[\"currency_code\"]))\n",
        "    print(\"Fecha:\\t{}\".format(response[\"date\"]))\n",
        "    print(\"Ticket:\\t{}\".format(response[\"invoice_number\"]))\n",
        "    print(\"Items:\\t{}\".format(response[\"line_items\"][0][\"description\"]))\n",
        "    print(\"Precio:\\t{}\".format(response[\"line_items\"][0][\"price\"]))\n",
        "    print(\"Cant:\\t{}\".format(response[\"line_items\"][0][\"quantity\"]))\n",
        "    print(\"Tax:\\t{}\".format(response[\"line_items\"][0][\"tax\"]))\n",
        "    print(\"Total:\\t{}\".format(response[\"line_items\"][0][\"total\"]))\n",
        "    print(\"Nombre:\\t{}\".format(response[\"payment\"][\"display_name\"]))\n",
        "    print(\"Método:\\t{}\".format(response[\"payment\"][\"type\"]))\n",
        "    print(\"Razón:\\t{}\".format(response[\"vendor\"][\"name\"]))\n",
        "    print(\"Tipo:\\t{}\".format(response[\"vendor\"][\"type\"]))\n",
        "    print(\"Logo:\\t{}\".format(response[\"vendor\"][\"logo\"]))\n",
        "    print(\"Dir:\\t{}\".format(response[\"vendor\"][\"address\"]))\n",
        "    print(\"Categ:\\t{}\".format(response[\"vendor\"][\"category\"]))\n",
        "    print(\"img:\\t{}\".format(response[\"img_url\"]))"
      ],
      "metadata": {
        "id": "e3gVMwoRetzM"
      },
      "execution_count": 4,
      "outputs": []
    },
    {
      "cell_type": "markdown",
      "source": [
        "## set WD"
      ],
      "metadata": {
        "id": "nCI0jx8ZVguU"
      }
    },
    {
      "cell_type": "code",
      "source": [
        "# Definir el directorio de trabajo\n",
        "cwd = \"./00-app_project\"\n",
        "os.chdir(cwd)\n",
        "print(os.getcwd())"
      ],
      "metadata": {
        "id": "R5uHk3RpBt5C",
        "colab": {
          "base_uri": "https://localhost:8080/"
        },
        "outputId": "2d50f733-d154-4b91-def6-a7701bc0e559"
      },
      "execution_count": 5,
      "outputs": [
        {
          "output_type": "stream",
          "name": "stdout",
          "text": [
            "/content/drive/MyDrive/00-app_project\n"
          ]
        }
      ]
    },
    {
      "cell_type": "code",
      "source": [
        "# Crear directorios\n",
        "data_path = mk_dir(\"data\")"
      ],
      "metadata": {
        "id": "wUiMY1yaE0sa"
      },
      "execution_count": null,
      "outputs": []
    },
    {
      "cell_type": "markdown",
      "source": [
        "# DDBB\n"
      ],
      "metadata": {
        "id": "e_Lup4SVsGTL"
      }
    },
    {
      "cell_type": "markdown",
      "source": [
        "## [veryfi_client](https://veryfi.github.io/veryfi-python/)"
      ],
      "metadata": {
        "id": "wzxRiu25VkXP"
      }
    },
    {
      "cell_type": "code",
      "source": [
        "client_id = 'vrfDfDElvD*************tFiztngBUN'\n",
        "client_secret = 'N188ArbVjSVy44RUJhJUBbooN1JKGAZOL0SYrCfMD*******************j6zvpLUr0S4SeGTA5wZEGGtj0orXPtHmcoZHvTeJv51Pj0Eme3wK'\n",
        "username = 'leon*****ho'\n",
        "api_key = 'b7b406eb008*********4da288e'\n",
        "veryfi_client = Client(client_id, client_secret, username, api_key)"
      ],
      "metadata": {
        "id": "xzz4hUC7v6RV"
      },
      "execution_count": 7,
      "outputs": []
    },
    {
      "cell_type": "markdown",
      "source": [
        "## tickets-img"
      ],
      "metadata": {
        "id": "6Mt_8X0IVoxu"
      }
    },
    {
      "cell_type": "code",
      "source": [
        "mypath=\"./data/tickets\""
      ],
      "metadata": {
        "id": "4T2I-DGpyL0b"
      },
      "execution_count": 10,
      "outputs": []
    },
    {
      "cell_type": "code",
      "source": [
        "onlyfiles = [join(mypath, f) for f in listdir(mypath) if isfile(join(mypath, f))]"
      ],
      "metadata": {
        "id": "psg9cyR2zUuV"
      },
      "execution_count": 11,
      "outputs": []
    },
    {
      "cell_type": "code",
      "source": [
        "responses_list = [veryfi_client.process_document(f) for f in onlyfiles]"
      ],
      "metadata": {
        "id": "Se62kKYYvAdo"
      },
      "execution_count": null,
      "outputs": []
    },
    {
      "cell_type": "code",
      "source": [
        "with open('./data/responses_lst.json', 'w') as fout:\n",
        "    json.dump(responses_list, fout)"
      ],
      "metadata": {
        "id": "Gc1JQQHsvDFa"
      },
      "execution_count": null,
      "outputs": []
    },
    {
      "cell_type": "code",
      "source": [
        "f = open('./data/responses_lst.json')\n",
        "responses_list = json.load(f)"
      ],
      "metadata": {
        "id": "lFz0swCowLC5"
      },
      "execution_count": 12,
      "outputs": []
    },
    {
      "cell_type": "markdown",
      "source": [
        "## responses_list to DF"
      ],
      "metadata": {
        "id": "Z5DedeNlVvOS"
      }
    },
    {
      "cell_type": "code",
      "source": [
        "df = pd.json_normalize(responses_list)"
      ],
      "metadata": {
        "id": "SoWBwlKQwVms"
      },
      "execution_count": 13,
      "outputs": []
    },
    {
      "cell_type": "code",
      "source": [
        "df.drop_duplicates(subset=['id'], inplace=True)"
      ],
      "metadata": {
        "id": "ekNfA8gHxB2K"
      },
      "execution_count": 14,
      "outputs": []
    },
    {
      "cell_type": "code",
      "source": [
        "df = df[df['duplicate_of'].isna()]"
      ],
      "metadata": {
        "id": "ZJMqUSpdTeLO"
      },
      "execution_count": 15,
      "outputs": []
    },
    {
      "cell_type": "code",
      "source": [
        "df.head()"
      ],
      "metadata": {
        "colab": {
          "base_uri": "https://localhost:8080/",
          "height": 473
        },
        "id": "x-yUUhhQr7lY",
        "outputId": "71546562-326a-43e0-8a29-d0cfa40ad024"
      },
      "execution_count": 17,
      "outputs": [
        {
          "output_type": "execute_result",
          "data": {
            "text/plain": [
              "  account_number cashback                    category         created_date  \\\n",
              "0           None     None  Office Supplies & Software  2022-03-24 21:35:21   \n",
              "1         516097     None                     Grocery  2022-03-24 21:52:28   \n",
              "2           None     None                     Grocery  2022-03-24 22:32:25   \n",
              "3           None     None       Meals & Entertainment  2022-03-24 22:42:28   \n",
              "4           None     None       Meals & Entertainment  2022-03-24 23:17:01   \n",
              "\n",
              "  currency_code                 date delivery_date  discount  \\\n",
              "0           EUR  2022-02-09 00:00:00    2022-02-09       NaN   \n",
              "1           EUR  2022-03-21 13:40:00          None       NaN   \n",
              "2           EUR  2014-12-01 18:35:00          None       NaN   \n",
              "3           USD  2020-09-19 00:00:00          None       NaN   \n",
              "4           EUR  2021-11-28 19:23:00          None       NaN   \n",
              "\n",
              "  document_reference_number        document_title  ... vendor.fax_number  \\\n",
              "0                      None  Factura Simplificada  ...              None   \n",
              "1                      None                  None  ...              None   \n",
              "2                      None                  None  ...              None   \n",
              "3                      None                  None  ...              None   \n",
              "4                  40082018                  None  ...              None   \n",
              "\n",
              "  vendor.iban                                     vendor.logo  vendor.name  \\\n",
              "0        None   https://cdn.veryfi.com/logos/us/432282625.jpg  Media Markt   \n",
              "1        None   https://cdn.veryfi.com/logos/us/317031922.gif         Lidl   \n",
              "2        None   https://cdn.veryfi.com/logos/us/632580219.png    Mercadona   \n",
              "3        None  https://cdn.veryfi.com/logos/tmp/161748618.png   Receiptify   \n",
              "4        None   https://cdn.veryfi.com/logos/us/950290923.png        GUESS   \n",
              "\n",
              "   vendor.phone_number vendor.raw_name vendor.reg_number  \\\n",
              "0          900 205 000     Media Markt              None   \n",
              "1            900958311            Lidl              None   \n",
              "2            971145800       Mercadona              None   \n",
              "3                 None      RECEIPTIFY              None   \n",
              "4                 None           GUESS              None   \n",
              "\n",
              "                                     vendor.type vendor.vat_number vendor.web  \n",
              "0                              Electronics Store       ESA64421738       None  \n",
              "1                                        Grocery         A60195278       None  \n",
              "2  supermarket,grocery_or_supermarket,food,store        A-46103834       None  \n",
              "3                                           None              None       None  \n",
              "4                           clothing_store,store         384869288       None  \n",
              "\n",
              "[5 rows x 69 columns]"
            ],
            "text/html": [
              "\n",
              "  <div id=\"df-a56bf897-4411-49c2-8472-07b3ae3e5ae8\">\n",
              "    <div class=\"colab-df-container\">\n",
              "      <div>\n",
              "<style scoped>\n",
              "    .dataframe tbody tr th:only-of-type {\n",
              "        vertical-align: middle;\n",
              "    }\n",
              "\n",
              "    .dataframe tbody tr th {\n",
              "        vertical-align: top;\n",
              "    }\n",
              "\n",
              "    .dataframe thead th {\n",
              "        text-align: right;\n",
              "    }\n",
              "</style>\n",
              "<table border=\"1\" class=\"dataframe\">\n",
              "  <thead>\n",
              "    <tr style=\"text-align: right;\">\n",
              "      <th></th>\n",
              "      <th>account_number</th>\n",
              "      <th>cashback</th>\n",
              "      <th>category</th>\n",
              "      <th>created_date</th>\n",
              "      <th>currency_code</th>\n",
              "      <th>date</th>\n",
              "      <th>delivery_date</th>\n",
              "      <th>discount</th>\n",
              "      <th>document_reference_number</th>\n",
              "      <th>document_title</th>\n",
              "      <th>...</th>\n",
              "      <th>vendor.fax_number</th>\n",
              "      <th>vendor.iban</th>\n",
              "      <th>vendor.logo</th>\n",
              "      <th>vendor.name</th>\n",
              "      <th>vendor.phone_number</th>\n",
              "      <th>vendor.raw_name</th>\n",
              "      <th>vendor.reg_number</th>\n",
              "      <th>vendor.type</th>\n",
              "      <th>vendor.vat_number</th>\n",
              "      <th>vendor.web</th>\n",
              "    </tr>\n",
              "  </thead>\n",
              "  <tbody>\n",
              "    <tr>\n",
              "      <th>0</th>\n",
              "      <td>None</td>\n",
              "      <td>None</td>\n",
              "      <td>Office Supplies &amp; Software</td>\n",
              "      <td>2022-03-24 21:35:21</td>\n",
              "      <td>EUR</td>\n",
              "      <td>2022-02-09 00:00:00</td>\n",
              "      <td>2022-02-09</td>\n",
              "      <td>NaN</td>\n",
              "      <td>None</td>\n",
              "      <td>Factura Simplificada</td>\n",
              "      <td>...</td>\n",
              "      <td>None</td>\n",
              "      <td>None</td>\n",
              "      <td>https://cdn.veryfi.com/logos/us/432282625.jpg</td>\n",
              "      <td>Media Markt</td>\n",
              "      <td>900 205 000</td>\n",
              "      <td>Media Markt</td>\n",
              "      <td>None</td>\n",
              "      <td>Electronics Store</td>\n",
              "      <td>ESA64421738</td>\n",
              "      <td>None</td>\n",
              "    </tr>\n",
              "    <tr>\n",
              "      <th>1</th>\n",
              "      <td>516097</td>\n",
              "      <td>None</td>\n",
              "      <td>Grocery</td>\n",
              "      <td>2022-03-24 21:52:28</td>\n",
              "      <td>EUR</td>\n",
              "      <td>2022-03-21 13:40:00</td>\n",
              "      <td>None</td>\n",
              "      <td>NaN</td>\n",
              "      <td>None</td>\n",
              "      <td>None</td>\n",
              "      <td>...</td>\n",
              "      <td>None</td>\n",
              "      <td>None</td>\n",
              "      <td>https://cdn.veryfi.com/logos/us/317031922.gif</td>\n",
              "      <td>Lidl</td>\n",
              "      <td>900958311</td>\n",
              "      <td>Lidl</td>\n",
              "      <td>None</td>\n",
              "      <td>Grocery</td>\n",
              "      <td>A60195278</td>\n",
              "      <td>None</td>\n",
              "    </tr>\n",
              "    <tr>\n",
              "      <th>2</th>\n",
              "      <td>None</td>\n",
              "      <td>None</td>\n",
              "      <td>Grocery</td>\n",
              "      <td>2022-03-24 22:32:25</td>\n",
              "      <td>EUR</td>\n",
              "      <td>2014-12-01 18:35:00</td>\n",
              "      <td>None</td>\n",
              "      <td>NaN</td>\n",
              "      <td>None</td>\n",
              "      <td>None</td>\n",
              "      <td>...</td>\n",
              "      <td>None</td>\n",
              "      <td>None</td>\n",
              "      <td>https://cdn.veryfi.com/logos/us/632580219.png</td>\n",
              "      <td>Mercadona</td>\n",
              "      <td>971145800</td>\n",
              "      <td>Mercadona</td>\n",
              "      <td>None</td>\n",
              "      <td>supermarket,grocery_or_supermarket,food,store</td>\n",
              "      <td>A-46103834</td>\n",
              "      <td>None</td>\n",
              "    </tr>\n",
              "    <tr>\n",
              "      <th>3</th>\n",
              "      <td>None</td>\n",
              "      <td>None</td>\n",
              "      <td>Meals &amp; Entertainment</td>\n",
              "      <td>2022-03-24 22:42:28</td>\n",
              "      <td>USD</td>\n",
              "      <td>2020-09-19 00:00:00</td>\n",
              "      <td>None</td>\n",
              "      <td>NaN</td>\n",
              "      <td>None</td>\n",
              "      <td>None</td>\n",
              "      <td>...</td>\n",
              "      <td>None</td>\n",
              "      <td>None</td>\n",
              "      <td>https://cdn.veryfi.com/logos/tmp/161748618.png</td>\n",
              "      <td>Receiptify</td>\n",
              "      <td>None</td>\n",
              "      <td>RECEIPTIFY</td>\n",
              "      <td>None</td>\n",
              "      <td>None</td>\n",
              "      <td>None</td>\n",
              "      <td>None</td>\n",
              "    </tr>\n",
              "    <tr>\n",
              "      <th>4</th>\n",
              "      <td>None</td>\n",
              "      <td>None</td>\n",
              "      <td>Meals &amp; Entertainment</td>\n",
              "      <td>2022-03-24 23:17:01</td>\n",
              "      <td>EUR</td>\n",
              "      <td>2021-11-28 19:23:00</td>\n",
              "      <td>None</td>\n",
              "      <td>NaN</td>\n",
              "      <td>40082018</td>\n",
              "      <td>None</td>\n",
              "      <td>...</td>\n",
              "      <td>None</td>\n",
              "      <td>None</td>\n",
              "      <td>https://cdn.veryfi.com/logos/us/950290923.png</td>\n",
              "      <td>GUESS</td>\n",
              "      <td>None</td>\n",
              "      <td>GUESS</td>\n",
              "      <td>None</td>\n",
              "      <td>clothing_store,store</td>\n",
              "      <td>384869288</td>\n",
              "      <td>None</td>\n",
              "    </tr>\n",
              "  </tbody>\n",
              "</table>\n",
              "<p>5 rows × 69 columns</p>\n",
              "</div>\n",
              "      <button class=\"colab-df-convert\" onclick=\"convertToInteractive('df-a56bf897-4411-49c2-8472-07b3ae3e5ae8')\"\n",
              "              title=\"Convert this dataframe to an interactive table.\"\n",
              "              style=\"display:none;\">\n",
              "        \n",
              "  <svg xmlns=\"http://www.w3.org/2000/svg\" height=\"24px\"viewBox=\"0 0 24 24\"\n",
              "       width=\"24px\">\n",
              "    <path d=\"M0 0h24v24H0V0z\" fill=\"none\"/>\n",
              "    <path d=\"M18.56 5.44l.94 2.06.94-2.06 2.06-.94-2.06-.94-.94-2.06-.94 2.06-2.06.94zm-11 1L8.5 8.5l.94-2.06 2.06-.94-2.06-.94L8.5 2.5l-.94 2.06-2.06.94zm10 10l.94 2.06.94-2.06 2.06-.94-2.06-.94-.94-2.06-.94 2.06-2.06.94z\"/><path d=\"M17.41 7.96l-1.37-1.37c-.4-.4-.92-.59-1.43-.59-.52 0-1.04.2-1.43.59L10.3 9.45l-7.72 7.72c-.78.78-.78 2.05 0 2.83L4 21.41c.39.39.9.59 1.41.59.51 0 1.02-.2 1.41-.59l7.78-7.78 2.81-2.81c.8-.78.8-2.07 0-2.86zM5.41 20L4 18.59l7.72-7.72 1.47 1.35L5.41 20z\"/>\n",
              "  </svg>\n",
              "      </button>\n",
              "      \n",
              "  <style>\n",
              "    .colab-df-container {\n",
              "      display:flex;\n",
              "      flex-wrap:wrap;\n",
              "      gap: 12px;\n",
              "    }\n",
              "\n",
              "    .colab-df-convert {\n",
              "      background-color: #E8F0FE;\n",
              "      border: none;\n",
              "      border-radius: 50%;\n",
              "      cursor: pointer;\n",
              "      display: none;\n",
              "      fill: #1967D2;\n",
              "      height: 32px;\n",
              "      padding: 0 0 0 0;\n",
              "      width: 32px;\n",
              "    }\n",
              "\n",
              "    .colab-df-convert:hover {\n",
              "      background-color: #E2EBFA;\n",
              "      box-shadow: 0px 1px 2px rgba(60, 64, 67, 0.3), 0px 1px 3px 1px rgba(60, 64, 67, 0.15);\n",
              "      fill: #174EA6;\n",
              "    }\n",
              "\n",
              "    [theme=dark] .colab-df-convert {\n",
              "      background-color: #3B4455;\n",
              "      fill: #D2E3FC;\n",
              "    }\n",
              "\n",
              "    [theme=dark] .colab-df-convert:hover {\n",
              "      background-color: #434B5C;\n",
              "      box-shadow: 0px 1px 3px 1px rgba(0, 0, 0, 0.15);\n",
              "      filter: drop-shadow(0px 1px 2px rgba(0, 0, 0, 0.3));\n",
              "      fill: #FFFFFF;\n",
              "    }\n",
              "  </style>\n",
              "\n",
              "      <script>\n",
              "        const buttonEl =\n",
              "          document.querySelector('#df-a56bf897-4411-49c2-8472-07b3ae3e5ae8 button.colab-df-convert');\n",
              "        buttonEl.style.display =\n",
              "          google.colab.kernel.accessAllowed ? 'block' : 'none';\n",
              "\n",
              "        async function convertToInteractive(key) {\n",
              "          const element = document.querySelector('#df-a56bf897-4411-49c2-8472-07b3ae3e5ae8');\n",
              "          const dataTable =\n",
              "            await google.colab.kernel.invokeFunction('convertToInteractive',\n",
              "                                                     [key], {});\n",
              "          if (!dataTable) return;\n",
              "\n",
              "          const docLinkHtml = 'Like what you see? Visit the ' +\n",
              "            '<a target=\"_blank\" href=https://colab.research.google.com/notebooks/data_table.ipynb>data table notebook</a>'\n",
              "            + ' to learn more about interactive tables.';\n",
              "          element.innerHTML = '';\n",
              "          dataTable['output_type'] = 'display_data';\n",
              "          await google.colab.output.renderOutput(dataTable, element);\n",
              "          const docLink = document.createElement('div');\n",
              "          docLink.innerHTML = docLinkHtml;\n",
              "          element.appendChild(docLink);\n",
              "        }\n",
              "      </script>\n",
              "    </div>\n",
              "  </div>\n",
              "  "
            ]
          },
          "metadata": {},
          "execution_count": 17
        }
      ]
    },
    {
      "cell_type": "code",
      "source": [
        "df.to_csv(\"./data/db.csv\")"
      ],
      "metadata": {
        "id": "BwlGtnxJXrI1"
      },
      "execution_count": null,
      "outputs": []
    },
    {
      "cell_type": "markdown",
      "source": [
        "## pasar json a base de datos...."
      ],
      "metadata": {
        "id": "NZAqYtVQV4kT"
      }
    },
    {
      "cell_type": "code",
      "source": [
        "# df.columns\n",
        "# describer(df[df.columns.difference(['line_items','tax_lines'])])\n",
        "# data_table.DataTable(df[df.columns.difference(['line_items','tax_lines','img_thumbnail_url','img_url','pdf_url','ocr_text'])], max_columns=70)\n",
        "# data_table.DataTable(df, max_columns=70)\n",
        "# df[df.columns.difference(['bill_to','line_items','meta','ship_to', 'payment','vendor','tax_lines'])]\n",
        "# df = df[[\"id\", \"date\", \"subtotal\", \"tax\", \"total\", \"currency_code\", \"payment.type\", \n",
        "#          \"bill_to.name\", \"vendor.type\", \"vendor.name\", \"bill_to.address\", \n",
        "#          \"vendor.address\", \"vendor.logo\", \"img_file_name\", \"img_thumbnail_url\", \n",
        "#          \"img_url\", \"pdf_url\"]]"
      ],
      "metadata": {
        "id": "rDm5R6sGJXA-"
      },
      "execution_count": null,
      "outputs": []
    },
    {
      "cell_type": "markdown",
      "source": [
        "# Customer-Segmentation"
      ],
      "metadata": {
        "id": "_rdwzgeTmu7q"
      }
    },
    {
      "cell_type": "code",
      "source": [
        "df = pd.read_csv(\"./data/tdf.csv\", parse_dates=[\"date\"])"
      ],
      "metadata": {
        "id": "aDALYFnyWjth"
      },
      "execution_count": 18,
      "outputs": []
    },
    {
      "cell_type": "code",
      "source": [
        "df.drop_duplicates(inplace=True)\n",
        "df.reset_index(inplace=True)\n",
        "df.rename(columns = {'index': 'InvoiceNo'}, inplace=True)\n",
        "df[\"date\"] = df[\"date\"].dt.date\n",
        "df.rename(columns={'date':'InvoiceDate'}, inplace=True)\n",
        "df.rename(columns={'total':'TotalSum'}, inplace=True)\n",
        "df.rename(columns={'bill_to.name':'CustomerID'}, inplace=True)"
      ],
      "metadata": {
        "id": "9xCcHcydjSs-"
      },
      "execution_count": 19,
      "outputs": []
    },
    {
      "cell_type": "code",
      "source": [
        "snapshot_date = max(df.InvoiceDate) + timedelta(days=1)"
      ],
      "metadata": {
        "id": "SXggdr3zaqJ9"
      },
      "execution_count": 22,
      "outputs": []
    },
    {
      "cell_type": "code",
      "source": [
        "customers = df.groupby(['CustomerID']).agg({\n",
        "    'InvoiceDate': lambda x: (snapshot_date - x.max()).days,\n",
        "    'InvoiceNo': 'count',\n",
        "    'TotalSum': 'sum'})"
      ],
      "metadata": {
        "id": "oS5-mSlPav3h"
      },
      "execution_count": 23,
      "outputs": []
    },
    {
      "cell_type": "code",
      "source": [
        "# Rename columns\n",
        "customers.rename(columns = {'InvoiceDate': 'Recency',\n",
        "                            'InvoiceNo': 'Frequency',\n",
        "                            'TotalSum': 'MonetaryValue'}, inplace=True)"
      ],
      "metadata": {
        "id": "xjrcHzNViRuf"
      },
      "execution_count": 24,
      "outputs": []
    },
    {
      "cell_type": "code",
      "source": [
        "customers"
      ],
      "metadata": {
        "colab": {
          "base_uri": "https://localhost:8080/",
          "height": 455
        },
        "id": "WzRDb7AHiUmD",
        "outputId": "be95d071-9689-49ef-9c62-77005ce372f0"
      },
      "execution_count": 25,
      "outputs": [
        {
          "output_type": "execute_result",
          "data": {
            "text/plain": [
              "                      Recency  Frequency  MonetaryValue\n",
              "CustomerID                                             \n",
              "31 Stephane               280          1          35.80\n",
              "A BARCELONETA             833          1          66.20\n",
              "APT. SALESPERSON          368          1         324.00\n",
              "ATENDU PUR: Karon         833          1          35.20\n",
              "Aaron Hawkins              10          2         119.90\n",
              "...                       ...        ...            ...\n",
              "Yoseph Carroll            281          5         148.60\n",
              "Zuschuss Carroll            6         18        9567.54\n",
              "Zuschuss Donatelli        280          4         147.95\n",
              "conventent and GREEN      398          3        2100.00\n",
              "stewart capps             833          1         675.18\n",
              "\n",
              "[764 rows x 3 columns]"
            ],
            "text/html": [
              "\n",
              "  <div id=\"df-49ddabd3-4fd1-487b-8d49-5ac500520925\">\n",
              "    <div class=\"colab-df-container\">\n",
              "      <div>\n",
              "<style scoped>\n",
              "    .dataframe tbody tr th:only-of-type {\n",
              "        vertical-align: middle;\n",
              "    }\n",
              "\n",
              "    .dataframe tbody tr th {\n",
              "        vertical-align: top;\n",
              "    }\n",
              "\n",
              "    .dataframe thead th {\n",
              "        text-align: right;\n",
              "    }\n",
              "</style>\n",
              "<table border=\"1\" class=\"dataframe\">\n",
              "  <thead>\n",
              "    <tr style=\"text-align: right;\">\n",
              "      <th></th>\n",
              "      <th>Recency</th>\n",
              "      <th>Frequency</th>\n",
              "      <th>MonetaryValue</th>\n",
              "    </tr>\n",
              "    <tr>\n",
              "      <th>CustomerID</th>\n",
              "      <th></th>\n",
              "      <th></th>\n",
              "      <th></th>\n",
              "    </tr>\n",
              "  </thead>\n",
              "  <tbody>\n",
              "    <tr>\n",
              "      <th>31 Stephane</th>\n",
              "      <td>280</td>\n",
              "      <td>1</td>\n",
              "      <td>35.80</td>\n",
              "    </tr>\n",
              "    <tr>\n",
              "      <th>A BARCELONETA</th>\n",
              "      <td>833</td>\n",
              "      <td>1</td>\n",
              "      <td>66.20</td>\n",
              "    </tr>\n",
              "    <tr>\n",
              "      <th>APT. SALESPERSON</th>\n",
              "      <td>368</td>\n",
              "      <td>1</td>\n",
              "      <td>324.00</td>\n",
              "    </tr>\n",
              "    <tr>\n",
              "      <th>ATENDU PUR: Karon</th>\n",
              "      <td>833</td>\n",
              "      <td>1</td>\n",
              "      <td>35.20</td>\n",
              "    </tr>\n",
              "    <tr>\n",
              "      <th>Aaron Hawkins</th>\n",
              "      <td>10</td>\n",
              "      <td>2</td>\n",
              "      <td>119.90</td>\n",
              "    </tr>\n",
              "    <tr>\n",
              "      <th>...</th>\n",
              "      <td>...</td>\n",
              "      <td>...</td>\n",
              "      <td>...</td>\n",
              "    </tr>\n",
              "    <tr>\n",
              "      <th>Yoseph Carroll</th>\n",
              "      <td>281</td>\n",
              "      <td>5</td>\n",
              "      <td>148.60</td>\n",
              "    </tr>\n",
              "    <tr>\n",
              "      <th>Zuschuss Carroll</th>\n",
              "      <td>6</td>\n",
              "      <td>18</td>\n",
              "      <td>9567.54</td>\n",
              "    </tr>\n",
              "    <tr>\n",
              "      <th>Zuschuss Donatelli</th>\n",
              "      <td>280</td>\n",
              "      <td>4</td>\n",
              "      <td>147.95</td>\n",
              "    </tr>\n",
              "    <tr>\n",
              "      <th>conventent and GREEN</th>\n",
              "      <td>398</td>\n",
              "      <td>3</td>\n",
              "      <td>2100.00</td>\n",
              "    </tr>\n",
              "    <tr>\n",
              "      <th>stewart capps</th>\n",
              "      <td>833</td>\n",
              "      <td>1</td>\n",
              "      <td>675.18</td>\n",
              "    </tr>\n",
              "  </tbody>\n",
              "</table>\n",
              "<p>764 rows × 3 columns</p>\n",
              "</div>\n",
              "      <button class=\"colab-df-convert\" onclick=\"convertToInteractive('df-49ddabd3-4fd1-487b-8d49-5ac500520925')\"\n",
              "              title=\"Convert this dataframe to an interactive table.\"\n",
              "              style=\"display:none;\">\n",
              "        \n",
              "  <svg xmlns=\"http://www.w3.org/2000/svg\" height=\"24px\"viewBox=\"0 0 24 24\"\n",
              "       width=\"24px\">\n",
              "    <path d=\"M0 0h24v24H0V0z\" fill=\"none\"/>\n",
              "    <path d=\"M18.56 5.44l.94 2.06.94-2.06 2.06-.94-2.06-.94-.94-2.06-.94 2.06-2.06.94zm-11 1L8.5 8.5l.94-2.06 2.06-.94-2.06-.94L8.5 2.5l-.94 2.06-2.06.94zm10 10l.94 2.06.94-2.06 2.06-.94-2.06-.94-.94-2.06-.94 2.06-2.06.94z\"/><path d=\"M17.41 7.96l-1.37-1.37c-.4-.4-.92-.59-1.43-.59-.52 0-1.04.2-1.43.59L10.3 9.45l-7.72 7.72c-.78.78-.78 2.05 0 2.83L4 21.41c.39.39.9.59 1.41.59.51 0 1.02-.2 1.41-.59l7.78-7.78 2.81-2.81c.8-.78.8-2.07 0-2.86zM5.41 20L4 18.59l7.72-7.72 1.47 1.35L5.41 20z\"/>\n",
              "  </svg>\n",
              "      </button>\n",
              "      \n",
              "  <style>\n",
              "    .colab-df-container {\n",
              "      display:flex;\n",
              "      flex-wrap:wrap;\n",
              "      gap: 12px;\n",
              "    }\n",
              "\n",
              "    .colab-df-convert {\n",
              "      background-color: #E8F0FE;\n",
              "      border: none;\n",
              "      border-radius: 50%;\n",
              "      cursor: pointer;\n",
              "      display: none;\n",
              "      fill: #1967D2;\n",
              "      height: 32px;\n",
              "      padding: 0 0 0 0;\n",
              "      width: 32px;\n",
              "    }\n",
              "\n",
              "    .colab-df-convert:hover {\n",
              "      background-color: #E2EBFA;\n",
              "      box-shadow: 0px 1px 2px rgba(60, 64, 67, 0.3), 0px 1px 3px 1px rgba(60, 64, 67, 0.15);\n",
              "      fill: #174EA6;\n",
              "    }\n",
              "\n",
              "    [theme=dark] .colab-df-convert {\n",
              "      background-color: #3B4455;\n",
              "      fill: #D2E3FC;\n",
              "    }\n",
              "\n",
              "    [theme=dark] .colab-df-convert:hover {\n",
              "      background-color: #434B5C;\n",
              "      box-shadow: 0px 1px 3px 1px rgba(0, 0, 0, 0.15);\n",
              "      filter: drop-shadow(0px 1px 2px rgba(0, 0, 0, 0.3));\n",
              "      fill: #FFFFFF;\n",
              "    }\n",
              "  </style>\n",
              "\n",
              "      <script>\n",
              "        const buttonEl =\n",
              "          document.querySelector('#df-49ddabd3-4fd1-487b-8d49-5ac500520925 button.colab-df-convert');\n",
              "        buttonEl.style.display =\n",
              "          google.colab.kernel.accessAllowed ? 'block' : 'none';\n",
              "\n",
              "        async function convertToInteractive(key) {\n",
              "          const element = document.querySelector('#df-49ddabd3-4fd1-487b-8d49-5ac500520925');\n",
              "          const dataTable =\n",
              "            await google.colab.kernel.invokeFunction('convertToInteractive',\n",
              "                                                     [key], {});\n",
              "          if (!dataTable) return;\n",
              "\n",
              "          const docLinkHtml = 'Like what you see? Visit the ' +\n",
              "            '<a target=\"_blank\" href=https://colab.research.google.com/notebooks/data_table.ipynb>data table notebook</a>'\n",
              "            + ' to learn more about interactive tables.';\n",
              "          element.innerHTML = '';\n",
              "          dataTable['output_type'] = 'display_data';\n",
              "          await google.colab.output.renderOutput(dataTable, element);\n",
              "          const docLink = document.createElement('div');\n",
              "          docLink.innerHTML = docLinkHtml;\n",
              "          element.appendChild(docLink);\n",
              "        }\n",
              "      </script>\n",
              "    </div>\n",
              "  </div>\n",
              "  "
            ]
          },
          "metadata": {},
          "execution_count": 25
        }
      ]
    },
    {
      "cell_type": "code",
      "source": [
        "customers_fix = pd.DataFrame()\n",
        "customers_fix[\"Recency\"] = stats.boxcox(customers['Recency'])[0]\n",
        "customers_fix[\"Frequency\"] = stats.boxcox(customers['Frequency'])[0]\n",
        "customers_fix[\"MonetaryValue\"] = pd.Series(np.cbrt(customers['MonetaryValue'])).values\n",
        "customers_fix.tail()"
      ],
      "metadata": {
        "colab": {
          "base_uri": "https://localhost:8080/",
          "height": 206
        },
        "id": "_p45eW_zknT7",
        "outputId": "ef4ef46e-28b5-4676-9990-97cd1514779a"
      },
      "execution_count": 26,
      "outputs": [
        {
          "output_type": "execute_result",
          "data": {
            "text/plain": [
              "       Recency  Frequency  MonetaryValue\n",
              "759  10.503259   1.736697       5.296711\n",
              "760   2.158415   3.318115      21.229190\n",
              "761  10.492143   1.480043       5.288977\n",
              "762  11.627992   1.156954      12.805792\n",
              "763  14.292794   0.000000       8.772833"
            ],
            "text/html": [
              "\n",
              "  <div id=\"df-59936f0d-b47f-4cc3-adef-f8c2a05dcc18\">\n",
              "    <div class=\"colab-df-container\">\n",
              "      <div>\n",
              "<style scoped>\n",
              "    .dataframe tbody tr th:only-of-type {\n",
              "        vertical-align: middle;\n",
              "    }\n",
              "\n",
              "    .dataframe tbody tr th {\n",
              "        vertical-align: top;\n",
              "    }\n",
              "\n",
              "    .dataframe thead th {\n",
              "        text-align: right;\n",
              "    }\n",
              "</style>\n",
              "<table border=\"1\" class=\"dataframe\">\n",
              "  <thead>\n",
              "    <tr style=\"text-align: right;\">\n",
              "      <th></th>\n",
              "      <th>Recency</th>\n",
              "      <th>Frequency</th>\n",
              "      <th>MonetaryValue</th>\n",
              "    </tr>\n",
              "  </thead>\n",
              "  <tbody>\n",
              "    <tr>\n",
              "      <th>759</th>\n",
              "      <td>10.503259</td>\n",
              "      <td>1.736697</td>\n",
              "      <td>5.296711</td>\n",
              "    </tr>\n",
              "    <tr>\n",
              "      <th>760</th>\n",
              "      <td>2.158415</td>\n",
              "      <td>3.318115</td>\n",
              "      <td>21.229190</td>\n",
              "    </tr>\n",
              "    <tr>\n",
              "      <th>761</th>\n",
              "      <td>10.492143</td>\n",
              "      <td>1.480043</td>\n",
              "      <td>5.288977</td>\n",
              "    </tr>\n",
              "    <tr>\n",
              "      <th>762</th>\n",
              "      <td>11.627992</td>\n",
              "      <td>1.156954</td>\n",
              "      <td>12.805792</td>\n",
              "    </tr>\n",
              "    <tr>\n",
              "      <th>763</th>\n",
              "      <td>14.292794</td>\n",
              "      <td>0.000000</td>\n",
              "      <td>8.772833</td>\n",
              "    </tr>\n",
              "  </tbody>\n",
              "</table>\n",
              "</div>\n",
              "      <button class=\"colab-df-convert\" onclick=\"convertToInteractive('df-59936f0d-b47f-4cc3-adef-f8c2a05dcc18')\"\n",
              "              title=\"Convert this dataframe to an interactive table.\"\n",
              "              style=\"display:none;\">\n",
              "        \n",
              "  <svg xmlns=\"http://www.w3.org/2000/svg\" height=\"24px\"viewBox=\"0 0 24 24\"\n",
              "       width=\"24px\">\n",
              "    <path d=\"M0 0h24v24H0V0z\" fill=\"none\"/>\n",
              "    <path d=\"M18.56 5.44l.94 2.06.94-2.06 2.06-.94-2.06-.94-.94-2.06-.94 2.06-2.06.94zm-11 1L8.5 8.5l.94-2.06 2.06-.94-2.06-.94L8.5 2.5l-.94 2.06-2.06.94zm10 10l.94 2.06.94-2.06 2.06-.94-2.06-.94-.94-2.06-.94 2.06-2.06.94z\"/><path d=\"M17.41 7.96l-1.37-1.37c-.4-.4-.92-.59-1.43-.59-.52 0-1.04.2-1.43.59L10.3 9.45l-7.72 7.72c-.78.78-.78 2.05 0 2.83L4 21.41c.39.39.9.59 1.41.59.51 0 1.02-.2 1.41-.59l7.78-7.78 2.81-2.81c.8-.78.8-2.07 0-2.86zM5.41 20L4 18.59l7.72-7.72 1.47 1.35L5.41 20z\"/>\n",
              "  </svg>\n",
              "      </button>\n",
              "      \n",
              "  <style>\n",
              "    .colab-df-container {\n",
              "      display:flex;\n",
              "      flex-wrap:wrap;\n",
              "      gap: 12px;\n",
              "    }\n",
              "\n",
              "    .colab-df-convert {\n",
              "      background-color: #E8F0FE;\n",
              "      border: none;\n",
              "      border-radius: 50%;\n",
              "      cursor: pointer;\n",
              "      display: none;\n",
              "      fill: #1967D2;\n",
              "      height: 32px;\n",
              "      padding: 0 0 0 0;\n",
              "      width: 32px;\n",
              "    }\n",
              "\n",
              "    .colab-df-convert:hover {\n",
              "      background-color: #E2EBFA;\n",
              "      box-shadow: 0px 1px 2px rgba(60, 64, 67, 0.3), 0px 1px 3px 1px rgba(60, 64, 67, 0.15);\n",
              "      fill: #174EA6;\n",
              "    }\n",
              "\n",
              "    [theme=dark] .colab-df-convert {\n",
              "      background-color: #3B4455;\n",
              "      fill: #D2E3FC;\n",
              "    }\n",
              "\n",
              "    [theme=dark] .colab-df-convert:hover {\n",
              "      background-color: #434B5C;\n",
              "      box-shadow: 0px 1px 3px 1px rgba(0, 0, 0, 0.15);\n",
              "      filter: drop-shadow(0px 1px 2px rgba(0, 0, 0, 0.3));\n",
              "      fill: #FFFFFF;\n",
              "    }\n",
              "  </style>\n",
              "\n",
              "      <script>\n",
              "        const buttonEl =\n",
              "          document.querySelector('#df-59936f0d-b47f-4cc3-adef-f8c2a05dcc18 button.colab-df-convert');\n",
              "        buttonEl.style.display =\n",
              "          google.colab.kernel.accessAllowed ? 'block' : 'none';\n",
              "\n",
              "        async function convertToInteractive(key) {\n",
              "          const element = document.querySelector('#df-59936f0d-b47f-4cc3-adef-f8c2a05dcc18');\n",
              "          const dataTable =\n",
              "            await google.colab.kernel.invokeFunction('convertToInteractive',\n",
              "                                                     [key], {});\n",
              "          if (!dataTable) return;\n",
              "\n",
              "          const docLinkHtml = 'Like what you see? Visit the ' +\n",
              "            '<a target=\"_blank\" href=https://colab.research.google.com/notebooks/data_table.ipynb>data table notebook</a>'\n",
              "            + ' to learn more about interactive tables.';\n",
              "          element.innerHTML = '';\n",
              "          dataTable['output_type'] = 'display_data';\n",
              "          await google.colab.output.renderOutput(dataTable, element);\n",
              "          const docLink = document.createElement('div');\n",
              "          docLink.innerHTML = docLinkHtml;\n",
              "          element.appendChild(docLink);\n",
              "        }\n",
              "      </script>\n",
              "    </div>\n",
              "  </div>\n",
              "  "
            ]
          },
          "metadata": {},
          "execution_count": 26
        }
      ]
    },
    {
      "cell_type": "code",
      "source": [
        "scaler = StandardScaler()# Fit and Transform The Data\n",
        "scaler.fit(customers_fix)\n",
        "customers_normalized = scaler.transform(customers_fix)# Assert that it has mean 0 and variance 1\n",
        "print(customers_normalized.mean(axis = 0).round(2)) # [0. -0. 0.]\n",
        "print(customers_normalized.std(axis = 0).round(2)) # [1. 1. 1.]"
      ],
      "metadata": {
        "colab": {
          "base_uri": "https://localhost:8080/"
        },
        "outputId": "3238adc6-490e-424c-ca20-dedc4d04ea9b",
        "id": "r-jiLBeUiRug"
      },
      "execution_count": 27,
      "outputs": [
        {
          "output_type": "stream",
          "name": "stdout",
          "text": [
            "[ 0. -0.  0.]\n",
            "[1. 1. 1.]\n"
          ]
        }
      ]
    },
    {
      "cell_type": "code",
      "source": [
        "sse = {}\n",
        "for k in range(1, 11):\n",
        "    kmeans = KMeans(n_clusters=k, random_state=42)\n",
        "    kmeans.fit(customers_normalized)\n",
        "    sse[k] = kmeans.inertia_ # SSE to closest cluster centroidplt.title('The Elbow Method')\n",
        "plt.xlabel('k')\n",
        "plt.ylabel('SSE')\n",
        "sns.pointplot(x=list(sse.keys()), y=list(sse.values()))\n",
        "plt.show()"
      ],
      "metadata": {
        "colab": {
          "base_uri": "https://localhost:8080/",
          "height": 279
        },
        "outputId": "a2752974-82f8-4bd2-8c01-f3834204d18e",
        "id": "MzzukKg6iRuh"
      },
      "execution_count": 28,
      "outputs": [
        {
          "output_type": "display_data",
          "data": {
            "text/plain": [
              "<Figure size 432x288 with 1 Axes>"
            ],
            "image/png": "[encoded data removed]"
          },
          "metadata": {
            "needs_background": "light"
          }
        }
      ]
    },
    {
      "cell_type": "code",
      "source": [
        "model = KMeans(n_clusters=3, random_state=42)\n",
        "model.fit(customers_normalized)\n",
        "model.labels_.shape"
      ],
      "metadata": {
        "colab": {
          "base_uri": "https://localhost:8080/"
        },
        "outputId": "aa031238-e1f7-4903-99db-68b75e57e6fe",
        "id": "xOtxPBEciRuh"
      },
      "execution_count": 29,
      "outputs": [
        {
          "output_type": "execute_result",
          "data": {
            "text/plain": [
              "(764,)"
            ]
          },
          "metadata": {},
          "execution_count": 29
        }
      ]
    },
    {
      "cell_type": "code",
      "source": [
        "customers[\"Cluster\"] = model.labels_\n",
        "customers.groupby('Cluster').agg({\n",
        "    'Recency':'mean',\n",
        "    'Frequency':'mean',\n",
        "    'MonetaryValue':['mean', 'count']}).round(2)"
      ],
      "metadata": {
        "colab": {
          "base_uri": "https://localhost:8080/",
          "height": 206
        },
        "outputId": "65e043c1-1f96-4d86-91a4-00e255da3ff0",
        "id": "opbmJCQxiRuh"
      },
      "execution_count": 30,
      "outputs": [
        {
          "output_type": "execute_result",
          "data": {
            "text/plain": [
              "        Recency Frequency MonetaryValue      \n",
              "           mean      mean          mean count\n",
              "Cluster                                      \n",
              "0        602.54      1.89        308.81   331\n",
              "1        201.75      6.24        975.07   395\n",
              "2        287.92      6.53      50338.23    38"
            ],
            "text/html": [
              "\n",
              "  <div id=\"df-fa6696ac-0109-4dda-8d40-63a25897f4af\">\n",
              "    <div class=\"colab-df-container\">\n",
              "      <div>\n",
              "<style scoped>\n",
              "    .dataframe tbody tr th:only-of-type {\n",
              "        vertical-align: middle;\n",
              "    }\n",
              "\n",
              "    .dataframe tbody tr th {\n",
              "        vertical-align: top;\n",
              "    }\n",
              "\n",
              "    .dataframe thead tr th {\n",
              "        text-align: left;\n",
              "    }\n",
              "\n",
              "    .dataframe thead tr:last-of-type th {\n",
              "        text-align: right;\n",
              "    }\n",
              "</style>\n",
              "<table border=\"1\" class=\"dataframe\">\n",
              "  <thead>\n",
              "    <tr>\n",
              "      <th></th>\n",
              "      <th>Recency</th>\n",
              "      <th>Frequency</th>\n",
              "      <th colspan=\"2\" halign=\"left\">MonetaryValue</th>\n",
              "    </tr>\n",
              "    <tr>\n",
              "      <th></th>\n",
              "      <th>mean</th>\n",
              "      <th>mean</th>\n",
              "      <th>mean</th>\n",
              "      <th>count</th>\n",
              "    </tr>\n",
              "    <tr>\n",
              "      <th>Cluster</th>\n",
              "      <th></th>\n",
              "      <th></th>\n",
              "      <th></th>\n",
              "      <th></th>\n",
              "    </tr>\n",
              "  </thead>\n",
              "  <tbody>\n",
              "    <tr>\n",
              "      <th>0</th>\n",
              "      <td>602.54</td>\n",
              "      <td>1.89</td>\n",
              "      <td>308.81</td>\n",
              "      <td>331</td>\n",
              "    </tr>\n",
              "    <tr>\n",
              "      <th>1</th>\n",
              "      <td>201.75</td>\n",
              "      <td>6.24</td>\n",
              "      <td>975.07</td>\n",
              "      <td>395</td>\n",
              "    </tr>\n",
              "    <tr>\n",
              "      <th>2</th>\n",
              "      <td>287.92</td>\n",
              "      <td>6.53</td>\n",
              "      <td>50338.23</td>\n",
              "      <td>38</td>\n",
              "    </tr>\n",
              "  </tbody>\n",
              "</table>\n",
              "</div>\n",
              "      <button class=\"colab-df-convert\" onclick=\"convertToInteractive('df-fa6696ac-0109-4dda-8d40-63a25897f4af')\"\n",
              "              title=\"Convert this dataframe to an interactive table.\"\n",
              "              style=\"display:none;\">\n",
              "        \n",
              "  <svg xmlns=\"http://www.w3.org/2000/svg\" height=\"24px\"viewBox=\"0 0 24 24\"\n",
              "       width=\"24px\">\n",
              "    <path d=\"M0 0h24v24H0V0z\" fill=\"none\"/>\n",
              "    <path d=\"M18.56 5.44l.94 2.06.94-2.06 2.06-.94-2.06-.94-.94-2.06-.94 2.06-2.06.94zm-11 1L8.5 8.5l.94-2.06 2.06-.94-2.06-.94L8.5 2.5l-.94 2.06-2.06.94zm10 10l.94 2.06.94-2.06 2.06-.94-2.06-.94-.94-2.06-.94 2.06-2.06.94z\"/><path d=\"M17.41 7.96l-1.37-1.37c-.4-.4-.92-.59-1.43-.59-.52 0-1.04.2-1.43.59L10.3 9.45l-7.72 7.72c-.78.78-.78 2.05 0 2.83L4 21.41c.39.39.9.59 1.41.59.51 0 1.02-.2 1.41-.59l7.78-7.78 2.81-2.81c.8-.78.8-2.07 0-2.86zM5.41 20L4 18.59l7.72-7.72 1.47 1.35L5.41 20z\"/>\n",
              "  </svg>\n",
              "      </button>\n",
              "      \n",
              "  <style>\n",
              "    .colab-df-container {\n",
              "      display:flex;\n",
              "      flex-wrap:wrap;\n",
              "      gap: 12px;\n",
              "    }\n",
              "\n",
              "    .colab-df-convert {\n",
              "      background-color: #E8F0FE;\n",
              "      border: none;\n",
              "      border-radius: 50%;\n",
              "      cursor: pointer;\n",
              "      display: none;\n",
              "      fill: #1967D2;\n",
              "      height: 32px;\n",
              "      padding: 0 0 0 0;\n",
              "      width: 32px;\n",
              "    }\n",
              "\n",
              "    .colab-df-convert:hover {\n",
              "      background-color: #E2EBFA;\n",
              "      box-shadow: 0px 1px 2px rgba(60, 64, 67, 0.3), 0px 1px 3px 1px rgba(60, 64, 67, 0.15);\n",
              "      fill: #174EA6;\n",
              "    }\n",
              "\n",
              "    [theme=dark] .colab-df-convert {\n",
              "      background-color: #3B4455;\n",
              "      fill: #D2E3FC;\n",
              "    }\n",
              "\n",
              "    [theme=dark] .colab-df-convert:hover {\n",
              "      background-color: #434B5C;\n",
              "      box-shadow: 0px 1px 3px 1px rgba(0, 0, 0, 0.15);\n",
              "      filter: drop-shadow(0px 1px 2px rgba(0, 0, 0, 0.3));\n",
              "      fill: #FFFFFF;\n",
              "    }\n",
              "  </style>\n",
              "\n",
              "      <script>\n",
              "        const buttonEl =\n",
              "          document.querySelector('#df-fa6696ac-0109-4dda-8d40-63a25897f4af button.colab-df-convert');\n",
              "        buttonEl.style.display =\n",
              "          google.colab.kernel.accessAllowed ? 'block' : 'none';\n",
              "\n",
              "        async function convertToInteractive(key) {\n",
              "          const element = document.querySelector('#df-fa6696ac-0109-4dda-8d40-63a25897f4af');\n",
              "          const dataTable =\n",
              "            await google.colab.kernel.invokeFunction('convertToInteractive',\n",
              "                                                     [key], {});\n",
              "          if (!dataTable) return;\n",
              "\n",
              "          const docLinkHtml = 'Like what you see? Visit the ' +\n",
              "            '<a target=\"_blank\" href=https://colab.research.google.com/notebooks/data_table.ipynb>data table notebook</a>'\n",
              "            + ' to learn more about interactive tables.';\n",
              "          element.innerHTML = '';\n",
              "          dataTable['output_type'] = 'display_data';\n",
              "          await google.colab.output.renderOutput(dataTable, element);\n",
              "          const docLink = document.createElement('div');\n",
              "          docLink.innerHTML = docLinkHtml;\n",
              "          element.appendChild(docLink);\n",
              "        }\n",
              "      </script>\n",
              "    </div>\n",
              "  </div>\n",
              "  "
            ]
          },
          "metadata": {},
          "execution_count": 30
        }
      ]
    },
    {
      "cell_type": "code",
      "source": [
        "df_normalized = pd.DataFrame(customers_normalized, columns=['Recency', 'Frequency', 'MonetaryValue'])\n",
        "df_normalized['ID'] = customers.index\n",
        "df_normalized['Cluster'] = model.labels_# Melt The Data\n",
        "df_nor_melt = pd.melt(df_normalized.reset_index(),\n",
        "                      id_vars=['ID', 'Cluster'],\n",
        "                      value_vars=['Recency','Frequency','MonetaryValue'],\n",
        "                      var_name='Attribute',\n",
        "                      value_name='Value')\n",
        "\n",
        "df_nor_melt.head()"
      ],
      "metadata": {
        "colab": {
          "base_uri": "https://localhost:8080/",
          "height": 206
        },
        "outputId": "812549a6-658e-4d03-fef4-bc31a430d582",
        "id": "4uoI3P_hiRuh"
      },
      "execution_count": 31,
      "outputs": [
        {
          "output_type": "execute_result",
          "data": {
            "text/plain": [
              "                  ID  Cluster Attribute     Value\n",
              "0        31 Stephane        0   Recency  0.113278\n",
              "1      A BARCELONETA        0   Recency  1.280495\n",
              "2   APT. SALESPERSON        0   Recency  0.382213\n",
              "3  ATENDU PUR: Karon        0   Recency  1.280495\n",
              "4      Aaron Hawkins        1   Recency -2.208887"
            ],
            "text/html": [
              "\n",
              "  <div id=\"df-5ffe1ef3-8fa0-4181-a1a2-40b046077490\">\n",
              "    <div class=\"colab-df-container\">\n",
              "      <div>\n",
              "<style scoped>\n",
              "    .dataframe tbody tr th:only-of-type {\n",
              "        vertical-align: middle;\n",
              "    }\n",
              "\n",
              "    .dataframe tbody tr th {\n",
              "        vertical-align: top;\n",
              "    }\n",
              "\n",
              "    .dataframe thead th {\n",
              "        text-align: right;\n",
              "    }\n",
              "</style>\n",
              "<table border=\"1\" class=\"dataframe\">\n",
              "  <thead>\n",
              "    <tr style=\"text-align: right;\">\n",
              "      <th></th>\n",
              "      <th>ID</th>\n",
              "      <th>Cluster</th>\n",
              "      <th>Attribute</th>\n",
              "      <th>Value</th>\n",
              "    </tr>\n",
              "  </thead>\n",
              "  <tbody>\n",
              "    <tr>\n",
              "      <th>0</th>\n",
              "      <td>31 Stephane</td>\n",
              "      <td>0</td>\n",
              "      <td>Recency</td>\n",
              "      <td>0.113278</td>\n",
              "    </tr>\n",
              "    <tr>\n",
              "      <th>1</th>\n",
              "      <td>A BARCELONETA</td>\n",
              "      <td>0</td>\n",
              "      <td>Recency</td>\n",
              "      <td>1.280495</td>\n",
              "    </tr>\n",
              "    <tr>\n",
              "      <th>2</th>\n",
              "      <td>APT. SALESPERSON</td>\n",
              "      <td>0</td>\n",
              "      <td>Recency</td>\n",
              "      <td>0.382213</td>\n",
              "    </tr>\n",
              "    <tr>\n",
              "      <th>3</th>\n",
              "      <td>ATENDU PUR: Karon</td>\n",
              "      <td>0</td>\n",
              "      <td>Recency</td>\n",
              "      <td>1.280495</td>\n",
              "    </tr>\n",
              "    <tr>\n",
              "      <th>4</th>\n",
              "      <td>Aaron Hawkins</td>\n",
              "      <td>1</td>\n",
              "      <td>Recency</td>\n",
              "      <td>-2.208887</td>\n",
              "    </tr>\n",
              "  </tbody>\n",
              "</table>\n",
              "</div>\n",
              "      <button class=\"colab-df-convert\" onclick=\"convertToInteractive('df-5ffe1ef3-8fa0-4181-a1a2-40b046077490')\"\n",
              "              title=\"Convert this dataframe to an interactive table.\"\n",
              "              style=\"display:none;\">\n",
              "        \n",
              "  <svg xmlns=\"http://www.w3.org/2000/svg\" height=\"24px\"viewBox=\"0 0 24 24\"\n",
              "       width=\"24px\">\n",
              "    <path d=\"M0 0h24v24H0V0z\" fill=\"none\"/>\n",
              "    <path d=\"M18.56 5.44l.94 2.06.94-2.06 2.06-.94-2.06-.94-.94-2.06-.94 2.06-2.06.94zm-11 1L8.5 8.5l.94-2.06 2.06-.94-2.06-.94L8.5 2.5l-.94 2.06-2.06.94zm10 10l.94 2.06.94-2.06 2.06-.94-2.06-.94-.94-2.06-.94 2.06-2.06.94z\"/><path d=\"M17.41 7.96l-1.37-1.37c-.4-.4-.92-.59-1.43-.59-.52 0-1.04.2-1.43.59L10.3 9.45l-7.72 7.72c-.78.78-.78 2.05 0 2.83L4 21.41c.39.39.9.59 1.41.59.51 0 1.02-.2 1.41-.59l7.78-7.78 2.81-2.81c.8-.78.8-2.07 0-2.86zM5.41 20L4 18.59l7.72-7.72 1.47 1.35L5.41 20z\"/>\n",
              "  </svg>\n",
              "      </button>\n",
              "      \n",
              "  <style>\n",
              "    .colab-df-container {\n",
              "      display:flex;\n",
              "      flex-wrap:wrap;\n",
              "      gap: 12px;\n",
              "    }\n",
              "\n",
              "    .colab-df-convert {\n",
              "      background-color: #E8F0FE;\n",
              "      border: none;\n",
              "      border-radius: 50%;\n",
              "      cursor: pointer;\n",
              "      display: none;\n",
              "      fill: #1967D2;\n",
              "      height: 32px;\n",
              "      padding: 0 0 0 0;\n",
              "      width: 32px;\n",
              "    }\n",
              "\n",
              "    .colab-df-convert:hover {\n",
              "      background-color: #E2EBFA;\n",
              "      box-shadow: 0px 1px 2px rgba(60, 64, 67, 0.3), 0px 1px 3px 1px rgba(60, 64, 67, 0.15);\n",
              "      fill: #174EA6;\n",
              "    }\n",
              "\n",
              "    [theme=dark] .colab-df-convert {\n",
              "      background-color: #3B4455;\n",
              "      fill: #D2E3FC;\n",
              "    }\n",
              "\n",
              "    [theme=dark] .colab-df-convert:hover {\n",
              "      background-color: #434B5C;\n",
              "      box-shadow: 0px 1px 3px 1px rgba(0, 0, 0, 0.15);\n",
              "      filter: drop-shadow(0px 1px 2px rgba(0, 0, 0, 0.3));\n",
              "      fill: #FFFFFF;\n",
              "    }\n",
              "  </style>\n",
              "\n",
              "      <script>\n",
              "        const buttonEl =\n",
              "          document.querySelector('#df-5ffe1ef3-8fa0-4181-a1a2-40b046077490 button.colab-df-convert');\n",
              "        buttonEl.style.display =\n",
              "          google.colab.kernel.accessAllowed ? 'block' : 'none';\n",
              "\n",
              "        async function convertToInteractive(key) {\n",
              "          const element = document.querySelector('#df-5ffe1ef3-8fa0-4181-a1a2-40b046077490');\n",
              "          const dataTable =\n",
              "            await google.colab.kernel.invokeFunction('convertToInteractive',\n",
              "                                                     [key], {});\n",
              "          if (!dataTable) return;\n",
              "\n",
              "          const docLinkHtml = 'Like what you see? Visit the ' +\n",
              "            '<a target=\"_blank\" href=https://colab.research.google.com/notebooks/data_table.ipynb>data table notebook</a>'\n",
              "            + ' to learn more about interactive tables.';\n",
              "          element.innerHTML = '';\n",
              "          dataTable['output_type'] = 'display_data';\n",
              "          await google.colab.output.renderOutput(dataTable, element);\n",
              "          const docLink = document.createElement('div');\n",
              "          docLink.innerHTML = docLinkHtml;\n",
              "          element.appendChild(docLink);\n",
              "        }\n",
              "      </script>\n",
              "    </div>\n",
              "  </div>\n",
              "  "
            ]
          },
          "metadata": {},
          "execution_count": 31
        }
      ]
    },
    {
      "cell_type": "code",
      "source": [
        "sns.lineplot(x='Attribute', y='Value', hue='Cluster', data=df_nor_melt)"
      ],
      "metadata": {
        "colab": {
          "base_uri": "https://localhost:8080/",
          "height": 296
        },
        "outputId": "8352519c-270d-46c9-ddfd-6969aa5724da",
        "id": "PRqMP_bxiRui"
      },
      "execution_count": 32,
      "outputs": [
        {
          "output_type": "execute_result",
          "data": {
            "text/plain": [
              "<matplotlib.axes._subplots.AxesSubplot at 0x7fed1d777cd0>"
            ]
          },
          "metadata": {},
          "execution_count": 32
        },
        {
          "output_type": "display_data",
          "data": {
            "text/plain": [
              "<Figure size 432x288 with 1 Axes>"
            ],
            "image/png": "[encoded data removed]"
          },
          "metadata": {
            "needs_background": "light"
          }
        }
      ]
    },
    {
      "cell_type": "markdown",
      "source": [
        "# Negocios de Villadecans"
      ],
      "metadata": {
        "id": "Y7yPcqpCqurQ"
      }
    },
    {
      "cell_type": "code",
      "source": [
        "stores = pd.read_csv(\"./data/stores.csv\", sep=\"\\t\", header=None )\n",
        "stores.columns = [\"hacer\",\"sector\",\"servicio\",\"contacto\",\"loc\", \"dir\", \"barri\"]\n",
        "stores"
      ],
      "metadata": {
        "colab": {
          "base_uri": "https://localhost:8080/",
          "height": 1000
        },
        "id": "yblVUUUPkTDW",
        "outputId": "43da6b02-a64e-4a9e-cd78-df2b44917e0a"
      },
      "execution_count": 33,
      "outputs": [
        {
          "output_type": "execute_result",
          "data": {
            "text/plain": [
              "                                    hacer  \\\n",
              "0                             On comprar?   \n",
              "1                             On comprar?   \n",
              "2                              On menjar?   \n",
              "3                             On comprar?   \n",
              "4                             On comprar?   \n",
              "5                              On menjar?   \n",
              "6                             On comprar?   \n",
              "7                              On menjar?   \n",
              "8                              On menjar?   \n",
              "9                                Què fer?   \n",
              "10                            On comprar?   \n",
              "11                            On comprar?   \n",
              "12                             On menjar?   \n",
              "13                            On comprar?   \n",
              "14                             On menjar?   \n",
              "15                           Qui m'ajuda?   \n",
              "16                            On comprar?   \n",
              "17                             On menjar?   \n",
              "18  On Trobar serveis per la meva llar?..   \n",
              "\n",
              "                                               sector  \\\n",
              "0                                  Moda i complements   \n",
              "1                                             Esports   \n",
              "2                                                Bars   \n",
              "3                                         Alimentació   \n",
              "4                               Productes per la llar   \n",
              "5                                         Restaurants   \n",
              "6                                         Alimentació   \n",
              "7                                         Restaurants   \n",
              "8                                         Restaurants   \n",
              "9                                         Oci nocturn   \n",
              "10                                        Alimentació   \n",
              "11                                 Moda i complements   \n",
              "12                                   Cafeteria-Granja   \n",
              "13                                 Moda i complements   \n",
              "14                                        Restaurants   \n",
              "15  Automoció: reparació i lloger de vehicles, gar...   \n",
              "16                                        Alimentació   \n",
              "17                              Forn de pa-degustació   \n",
              "18     Reformes, serveis i instal·lacions per la llar   \n",
              "\n",
              "                                          servicio  \\\n",
              "0                               Roba i complements   \n",
              "1           Articles esportius: roba i complements   \n",
              "2                                             Bars   \n",
              "3                                      Xarcuteries   \n",
              "4                        Floristeries i Jardineria   \n",
              "5                                      Restaurants   \n",
              "6                       Forns de pa i pastisseries   \n",
              "7                                      Restaurants   \n",
              "8                                      Restaurants   \n",
              "9                                     Bar de copes   \n",
              "10                           Aviram i Carnisseries   \n",
              "11                              Roba i complements   \n",
              "12                                Cafeteria-Granja   \n",
              "13                              Roba i complements   \n",
              "14                                     Restaurants   \n",
              "15                                 Taller mecànics   \n",
              "16                              Fruites i Verdures   \n",
              "17                           Forn de pa-degustació   \n",
              "18  Reformes, serveis i instal·lacions per la llar   \n",
              "\n",
              "                                   contacto  \\\n",
              "0                  bolsosbelofmay@gmail.com   \n",
              "1                barroso@barrosoesports.com   \n",
              "2                   info@grupolancaster.com   \n",
              "3             contacta@xarcuteria-olive.com   \n",
              "4   floristeriaraquel@floristeriaraquel.com   \n",
              "5                       peribet@hotmail.com   \n",
              "6                   info@bakerybynoelia.com   \n",
              "7                     calmingo@calmingo.net   \n",
              "8                elpetitluxemburg@gmail.com   \n",
              "9                tropicalmanaoshp@gmail.com   \n",
              "10                      houcin-n@hotmail.es   \n",
              "11                    secretsvila@gmail.com   \n",
              "12                                      NaN   \n",
              "13           ataliasanchezbenitez@gmail.com   \n",
              "14         alacazuelaviladecans@hotmail.com   \n",
              "15            taller@pneumaticslligadas.com   \n",
              "16                      cozinera@hotmail.es   \n",
              "17                    liz-noemi@hotmail.com   \n",
              "18             85integral@electrocalbet.net   \n",
              "\n",
              "                                                  loc  \\\n",
              "0   http://maps.google.com/maps?layer=c&cbll=41.31...   \n",
              "1   http://maps.google.com/maps?layer=c&cbll=41.31...   \n",
              "2   http://maps.google.com/maps?layer=c&cbll=41.31...   \n",
              "3   http://maps.google.com/maps?layer=c&cbll=41.31...   \n",
              "4   http://maps.google.com/maps?layer=c&cbll=41.31...   \n",
              "5   http://maps.google.com/maps?layer=c&cbll=41.31...   \n",
              "6   http://maps.google.com/maps?layer=c&cbll=41.31...   \n",
              "7   http://maps.google.com/maps?layer=c&cbll=41.32...   \n",
              "8   http://maps.google.com/maps?layer=c&cbll=41.31...   \n",
              "9   http://maps.google.com/maps?layer=c&cbll=41.31...   \n",
              "10  http://maps.google.com/maps?layer=c&cbll=41.31...   \n",
              "11  http://maps.google.com/maps?layer=c&cbll=41.31...   \n",
              "12  http://maps.google.com/maps?layer=c&cbll=41.31...   \n",
              "13  http://maps.google.com/maps?layer=c&cbll=41.32...   \n",
              "14  http://maps.google.com/maps?layer=c&cbll=41.31...   \n",
              "15  http://maps.google.com/maps?layer=c&cbll=41.31...   \n",
              "16  http://maps.google.com/maps?layer=c&cbll=41.32...   \n",
              "17  http://maps.google.com/maps?layer=c&cbll=41.32...   \n",
              "18  http://maps.google.com/maps?layer=c&cbll=41.31...   \n",
              "\n",
              "                                   dir                     barri  \n",
              "0           Carrer del Doctor Reig, 61         L'Eixample Centre  \n",
              "1        Carrer de Pi i Margall, 30-32               Barri Antic  \n",
              "2             Carrer de Jaume I, 39-41            Barri de Sales  \n",
              "3          Carrer d’Àngel Guimerà , 15               Barri Antic  \n",
              "4           Carrer de Pi i Margall, 25               Barri Antic  \n",
              "5          Carrer d’Àngel Guimerà , 23               Barri Antic  \n",
              "6                  Rambla Modolell, 32  La Torre-roja-Campreciós  \n",
              "7   Carretera de Barcelona (C-245), 86            Barri de Sales  \n",
              "8         Carrer de Rosa Luxemburg, 11   Can Palmer-Can Batllori  \n",
              "9                  Rambla Modolell, 33  La Torre-roja-Campreciós  \n",
              "10            Carrer d’Àngel Arañó, 63         L'Eixample Centre  \n",
              "11                 Rambla Modolell, 51  La Torre-roja-Campreciós  \n",
              "12        Carrer de Rosa Luxemburg, 11   Can Palmer-Can Batllori  \n",
              "13          Carrer del Doctor Reig, 81          La Montserratina  \n",
              "14            Passeig de la Marina, 23            Barri de Sales  \n",
              "15         Carrer de l’Agricultura, 12              Can Sellarès  \n",
              "16       Carrer de Salvador Baroné, 13         L'Eixample Centre  \n",
              "17              Passatge del Xaloc, 16  La Torre-roja-Campreciós  \n",
              "18        Carrer de Jaume Abril, 56-58         L'Eixample Centre  "
            ],
            "text/html": [
              "\n",
              "  <div id=\"df-a94626c8-30cd-41b6-a725-1a13f6b7c4bd\">\n",
              "    <div class=\"colab-df-container\">\n",
              "      <div>\n",
              "<style scoped>\n",
              "    .dataframe tbody tr th:only-of-type {\n",
              "        vertical-align: middle;\n",
              "    }\n",
              "\n",
              "    .dataframe tbody tr th {\n",
              "        vertical-align: top;\n",
              "    }\n",
              "\n",
              "    .dataframe thead th {\n",
              "        text-align: right;\n",
              "    }\n",
              "</style>\n",
              "<table border=\"1\" class=\"dataframe\">\n",
              "  <thead>\n",
              "    <tr style=\"text-align: right;\">\n",
              "      <th></th>\n",
              "      <th>hacer</th>\n",
              "      <th>sector</th>\n",
              "      <th>servicio</th>\n",
              "      <th>contacto</th>\n",
              "      <th>loc</th>\n",
              "      <th>dir</th>\n",
              "      <th>barri</th>\n",
              "    </tr>\n",
              "  </thead>\n",
              "  <tbody>\n",
              "    <tr>\n",
              "      <th>0</th>\n",
              "      <td>On comprar?</td>\n",
              "      <td>Moda i complements</td>\n",
              "      <td>Roba i complements</td>\n",
              "      <td>bolsosbelofmay@gmail.com</td>\n",
              "      <td>http://maps.google.com/maps?layer=c&amp;cbll=41.31...</td>\n",
              "      <td>Carrer del Doctor Reig, 61</td>\n",
              "      <td>L'Eixample Centre</td>\n",
              "    </tr>\n",
              "    <tr>\n",
              "      <th>1</th>\n",
              "      <td>On comprar?</td>\n",
              "      <td>Esports</td>\n",
              "      <td>Articles esportius: roba i complements</td>\n",
              "      <td>barroso@barrosoesports.com</td>\n",
              "      <td>http://maps.google.com/maps?layer=c&amp;cbll=41.31...</td>\n",
              "      <td>Carrer de Pi i Margall, 30-32</td>\n",
              "      <td>Barri Antic</td>\n",
              "    </tr>\n",
              "    <tr>\n",
              "      <th>2</th>\n",
              "      <td>On menjar?</td>\n",
              "      <td>Bars</td>\n",
              "      <td>Bars</td>\n",
              "      <td>info@grupolancaster.com</td>\n",
              "      <td>http://maps.google.com/maps?layer=c&amp;cbll=41.31...</td>\n",
              "      <td>Carrer de Jaume I, 39-41</td>\n",
              "      <td>Barri de Sales</td>\n",
              "    </tr>\n",
              "    <tr>\n",
              "      <th>3</th>\n",
              "      <td>On comprar?</td>\n",
              "      <td>Alimentació</td>\n",
              "      <td>Xarcuteries</td>\n",
              "      <td>contacta@xarcuteria-olive.com</td>\n",
              "      <td>http://maps.google.com/maps?layer=c&amp;cbll=41.31...</td>\n",
              "      <td>Carrer d’Àngel Guimerà , 15</td>\n",
              "      <td>Barri Antic</td>\n",
              "    </tr>\n",
              "    <tr>\n",
              "      <th>4</th>\n",
              "      <td>On comprar?</td>\n",
              "      <td>Productes per la llar</td>\n",
              "      <td>Floristeries i Jardineria</td>\n",
              "      <td>floristeriaraquel@floristeriaraquel.com</td>\n",
              "      <td>http://maps.google.com/maps?layer=c&amp;cbll=41.31...</td>\n",
              "      <td>Carrer de Pi i Margall, 25</td>\n",
              "      <td>Barri Antic</td>\n",
              "    </tr>\n",
              "    <tr>\n",
              "      <th>5</th>\n",
              "      <td>On menjar?</td>\n",
              "      <td>Restaurants</td>\n",
              "      <td>Restaurants</td>\n",
              "      <td>peribet@hotmail.com</td>\n",
              "      <td>http://maps.google.com/maps?layer=c&amp;cbll=41.31...</td>\n",
              "      <td>Carrer d’Àngel Guimerà , 23</td>\n",
              "      <td>Barri Antic</td>\n",
              "    </tr>\n",
              "    <tr>\n",
              "      <th>6</th>\n",
              "      <td>On comprar?</td>\n",
              "      <td>Alimentació</td>\n",
              "      <td>Forns de pa i pastisseries</td>\n",
              "      <td>info@bakerybynoelia.com</td>\n",
              "      <td>http://maps.google.com/maps?layer=c&amp;cbll=41.31...</td>\n",
              "      <td>Rambla Modolell, 32</td>\n",
              "      <td>La Torre-roja-Campreciós</td>\n",
              "    </tr>\n",
              "    <tr>\n",
              "      <th>7</th>\n",
              "      <td>On menjar?</td>\n",
              "      <td>Restaurants</td>\n",
              "      <td>Restaurants</td>\n",
              "      <td>calmingo@calmingo.net</td>\n",
              "      <td>http://maps.google.com/maps?layer=c&amp;cbll=41.32...</td>\n",
              "      <td>Carretera de Barcelona (C-245), 86</td>\n",
              "      <td>Barri de Sales</td>\n",
              "    </tr>\n",
              "    <tr>\n",
              "      <th>8</th>\n",
              "      <td>On menjar?</td>\n",
              "      <td>Restaurants</td>\n",
              "      <td>Restaurants</td>\n",
              "      <td>elpetitluxemburg@gmail.com</td>\n",
              "      <td>http://maps.google.com/maps?layer=c&amp;cbll=41.31...</td>\n",
              "      <td>Carrer de Rosa Luxemburg, 11</td>\n",
              "      <td>Can Palmer-Can Batllori</td>\n",
              "    </tr>\n",
              "    <tr>\n",
              "      <th>9</th>\n",
              "      <td>Què fer?</td>\n",
              "      <td>Oci nocturn</td>\n",
              "      <td>Bar de copes</td>\n",
              "      <td>tropicalmanaoshp@gmail.com</td>\n",
              "      <td>http://maps.google.com/maps?layer=c&amp;cbll=41.31...</td>\n",
              "      <td>Rambla Modolell, 33</td>\n",
              "      <td>La Torre-roja-Campreciós</td>\n",
              "    </tr>\n",
              "    <tr>\n",
              "      <th>10</th>\n",
              "      <td>On comprar?</td>\n",
              "      <td>Alimentació</td>\n",
              "      <td>Aviram i Carnisseries</td>\n",
              "      <td>houcin-n@hotmail.es</td>\n",
              "      <td>http://maps.google.com/maps?layer=c&amp;cbll=41.31...</td>\n",
              "      <td>Carrer d’Àngel Arañó, 63</td>\n",
              "      <td>L'Eixample Centre</td>\n",
              "    </tr>\n",
              "    <tr>\n",
              "      <th>11</th>\n",
              "      <td>On comprar?</td>\n",
              "      <td>Moda i complements</td>\n",
              "      <td>Roba i complements</td>\n",
              "      <td>secretsvila@gmail.com</td>\n",
              "      <td>http://maps.google.com/maps?layer=c&amp;cbll=41.31...</td>\n",
              "      <td>Rambla Modolell, 51</td>\n",
              "      <td>La Torre-roja-Campreciós</td>\n",
              "    </tr>\n",
              "    <tr>\n",
              "      <th>12</th>\n",
              "      <td>On menjar?</td>\n",
              "      <td>Cafeteria-Granja</td>\n",
              "      <td>Cafeteria-Granja</td>\n",
              "      <td>NaN</td>\n",
              "      <td>http://maps.google.com/maps?layer=c&amp;cbll=41.31...</td>\n",
              "      <td>Carrer de Rosa Luxemburg, 11</td>\n",
              "      <td>Can Palmer-Can Batllori</td>\n",
              "    </tr>\n",
              "    <tr>\n",
              "      <th>13</th>\n",
              "      <td>On comprar?</td>\n",
              "      <td>Moda i complements</td>\n",
              "      <td>Roba i complements</td>\n",
              "      <td>ataliasanchezbenitez@gmail.com</td>\n",
              "      <td>http://maps.google.com/maps?layer=c&amp;cbll=41.32...</td>\n",
              "      <td>Carrer del Doctor Reig, 81</td>\n",
              "      <td>La Montserratina</td>\n",
              "    </tr>\n",
              "    <tr>\n",
              "      <th>14</th>\n",
              "      <td>On menjar?</td>\n",
              "      <td>Restaurants</td>\n",
              "      <td>Restaurants</td>\n",
              "      <td>alacazuelaviladecans@hotmail.com</td>\n",
              "      <td>http://maps.google.com/maps?layer=c&amp;cbll=41.31...</td>\n",
              "      <td>Passeig de la Marina, 23</td>\n",
              "      <td>Barri de Sales</td>\n",
              "    </tr>\n",
              "    <tr>\n",
              "      <th>15</th>\n",
              "      <td>Qui m'ajuda?</td>\n",
              "      <td>Automoció: reparació i lloger de vehicles, gar...</td>\n",
              "      <td>Taller mecànics</td>\n",
              "      <td>taller@pneumaticslligadas.com</td>\n",
              "      <td>http://maps.google.com/maps?layer=c&amp;cbll=41.31...</td>\n",
              "      <td>Carrer de l’Agricultura, 12</td>\n",
              "      <td>Can Sellarès</td>\n",
              "    </tr>\n",
              "    <tr>\n",
              "      <th>16</th>\n",
              "      <td>On comprar?</td>\n",
              "      <td>Alimentació</td>\n",
              "      <td>Fruites i Verdures</td>\n",
              "      <td>cozinera@hotmail.es</td>\n",
              "      <td>http://maps.google.com/maps?layer=c&amp;cbll=41.32...</td>\n",
              "      <td>Carrer de Salvador Baroné, 13</td>\n",
              "      <td>L'Eixample Centre</td>\n",
              "    </tr>\n",
              "    <tr>\n",
              "      <th>17</th>\n",
              "      <td>On menjar?</td>\n",
              "      <td>Forn de pa-degustació</td>\n",
              "      <td>Forn de pa-degustació</td>\n",
              "      <td>liz-noemi@hotmail.com</td>\n",
              "      <td>http://maps.google.com/maps?layer=c&amp;cbll=41.32...</td>\n",
              "      <td>Passatge del Xaloc, 16</td>\n",
              "      <td>La Torre-roja-Campreciós</td>\n",
              "    </tr>\n",
              "    <tr>\n",
              "      <th>18</th>\n",
              "      <td>On Trobar serveis per la meva llar?..</td>\n",
              "      <td>Reformes, serveis i instal·lacions per la llar</td>\n",
              "      <td>Reformes, serveis i instal·lacions per la llar</td>\n",
              "      <td>85integral@electrocalbet.net</td>\n",
              "      <td>http://maps.google.com/maps?layer=c&amp;cbll=41.31...</td>\n",
              "      <td>Carrer de Jaume Abril, 56-58</td>\n",
              "      <td>L'Eixample Centre</td>\n",
              "    </tr>\n",
              "  </tbody>\n",
              "</table>\n",
              "</div>\n",
              "      <button class=\"colab-df-convert\" onclick=\"convertToInteractive('df-a94626c8-30cd-41b6-a725-1a13f6b7c4bd')\"\n",
              "              title=\"Convert this dataframe to an interactive table.\"\n",
              "              style=\"display:none;\">\n",
              "        \n",
              "  <svg xmlns=\"http://www.w3.org/2000/svg\" height=\"24px\"viewBox=\"0 0 24 24\"\n",
              "       width=\"24px\">\n",
              "    <path d=\"M0 0h24v24H0V0z\" fill=\"none\"/>\n",
              "    <path d=\"M18.56 5.44l.94 2.06.94-2.06 2.06-.94-2.06-.94-.94-2.06-.94 2.06-2.06.94zm-11 1L8.5 8.5l.94-2.06 2.06-.94-2.06-.94L8.5 2.5l-.94 2.06-2.06.94zm10 10l.94 2.06.94-2.06 2.06-.94-2.06-.94-.94-2.06-.94 2.06-2.06.94z\"/><path d=\"M17.41 7.96l-1.37-1.37c-.4-.4-.92-.59-1.43-.59-.52 0-1.04.2-1.43.59L10.3 9.45l-7.72 7.72c-.78.78-.78 2.05 0 2.83L4 21.41c.39.39.9.59 1.41.59.51 0 1.02-.2 1.41-.59l7.78-7.78 2.81-2.81c.8-.78.8-2.07 0-2.86zM5.41 20L4 18.59l7.72-7.72 1.47 1.35L5.41 20z\"/>\n",
              "  </svg>\n",
              "      </button>\n",
              "      \n",
              "  <style>\n",
              "    .colab-df-container {\n",
              "      display:flex;\n",
              "      flex-wrap:wrap;\n",
              "      gap: 12px;\n",
              "    }\n",
              "\n",
              "    .colab-df-convert {\n",
              "      background-color: #E8F0FE;\n",
              "      border: none;\n",
              "      border-radius: 50%;\n",
              "      cursor: pointer;\n",
              "      display: none;\n",
              "      fill: #1967D2;\n",
              "      height: 32px;\n",
              "      padding: 0 0 0 0;\n",
              "      width: 32px;\n",
              "    }\n",
              "\n",
              "    .colab-df-convert:hover {\n",
              "      background-color: #E2EBFA;\n",
              "      box-shadow: 0px 1px 2px rgba(60, 64, 67, 0.3), 0px 1px 3px 1px rgba(60, 64, 67, 0.15);\n",
              "      fill: #174EA6;\n",
              "    }\n",
              "\n",
              "    [theme=dark] .colab-df-convert {\n",
              "      background-color: #3B4455;\n",
              "      fill: #D2E3FC;\n",
              "    }\n",
              "\n",
              "    [theme=dark] .colab-df-convert:hover {\n",
              "      background-color: #434B5C;\n",
              "      box-shadow: 0px 1px 3px 1px rgba(0, 0, 0, 0.15);\n",
              "      filter: drop-shadow(0px 1px 2px rgba(0, 0, 0, 0.3));\n",
              "      fill: #FFFFFF;\n",
              "    }\n",
              "  </style>\n",
              "\n",
              "      <script>\n",
              "        const buttonEl =\n",
              "          document.querySelector('#df-a94626c8-30cd-41b6-a725-1a13f6b7c4bd button.colab-df-convert');\n",
              "        buttonEl.style.display =\n",
              "          google.colab.kernel.accessAllowed ? 'block' : 'none';\n",
              "\n",
              "        async function convertToInteractive(key) {\n",
              "          const element = document.querySelector('#df-a94626c8-30cd-41b6-a725-1a13f6b7c4bd');\n",
              "          const dataTable =\n",
              "            await google.colab.kernel.invokeFunction('convertToInteractive',\n",
              "                                                     [key], {});\n",
              "          if (!dataTable) return;\n",
              "\n",
              "          const docLinkHtml = 'Like what you see? Visit the ' +\n",
              "            '<a target=\"_blank\" href=https://colab.research.google.com/notebooks/data_table.ipynb>data table notebook</a>'\n",
              "            + ' to learn more about interactive tables.';\n",
              "          element.innerHTML = '';\n",
              "          dataTable['output_type'] = 'display_data';\n",
              "          await google.colab.output.renderOutput(dataTable, element);\n",
              "          const docLink = document.createElement('div');\n",
              "          docLink.innerHTML = docLinkHtml;\n",
              "          element.appendChild(docLink);\n",
              "        }\n",
              "      </script>\n",
              "    </div>\n",
              "  </div>\n",
              "  "
            ]
          },
          "metadata": {},
          "execution_count": 33
        }
      ]
    },
    {
      "cell_type": "markdown",
      "metadata": {
        "id": "SxmYetWt_WNl"
      },
      "source": [
        "# Mapas\n"
      ]
    },
    {
      "cell_type": "code",
      "execution_count": 35,
      "metadata": {
        "id": "mT-Gcg0Q_WNx"
      },
      "outputs": [],
      "source": [
        "# vist https://openrouteservice.org to acquire API key\n",
        "client = ors.Client(key=\"5b3ce3597*****************2869075ba1a6ff7df\")"
      ]
    },
    {
      "cell_type": "markdown",
      "source": [
        "## Itinerario Cami Del Mar"
      ],
      "metadata": {
        "id": "mPuc3FbEcRnh"
      }
    },
    {
      "cell_type": "markdown",
      "metadata": {
        "id": "Th-tMFVH_WNy"
      },
      "source": [
        "### DIRECTIONS\n"
      ]
    },
    {
      "cell_type": "code",
      "source": [
        "coord_camiDelMar = [[2.026934,41.308000], [2.0202714,41.316189], [2.011119,41.320853]]\n",
        "route_camiDelMar = client.directions(coordinates=coord_camiDelMar,\n",
        "                                     profile='foot-walking',format='geojson')\n",
        "map_directions = folium.Map(location=[41.316189, 2.0202714], zoom_start=16)\n",
        "folium.GeoJson(route_camiDelMar, name='Cami Del Mar').add_to(map_directions)\n",
        "folium.LayerControl().add_to(map_directions)\n",
        "map_directions"
      ],
      "metadata": {
        "colab": {
          "base_uri": "https://localhost:8080/",
          "height": 876
        },
        "outputId": "53196931-3256-4272-c304-dbdb30c29d69",
        "id": "I8n6LHgrbT5H"
      },
      "execution_count": 36,
      "outputs": [
        {
          "output_type": "execute_result",
          "data": {
            "text/plain": [
              "<folium.folium.Map at 0x7fed1d707d50>"
            ],
            "text/html": [
              "<div style=\"width:100%;\"><div style=\"position:relative;width:100%;height:0;padding-bottom:60%;\"><span style=\"color:#565656\">Make this Notebook Trusted to load map: File -> Trust Notebook</span><iframe srcdoc=\"&lt;!DOCTYPE html&gt;\n",
              "&lt;head&gt;    \n",
              "    &lt;meta http-equiv=&quot;content-type&quot; content=&quot;text/html; charset=UTF-8&quot; /&gt;\n",
              "    &lt;script&gt;L_PREFER_CANVAS=false; L_NO_TOUCH=false; L_DISABLE_3D=false;&lt;/script&gt;\n",
              "    &lt;script src=&quot;https://cdn.jsdelivr.net/npm/leaflet@1.4.0/dist/leaflet.js&quot;&gt;&lt;/script&gt;\n",
              "    &lt;script src=&quot;https://code.jquery.com/jquery-1.12.4.min.js&quot;&gt;&lt;/script&gt;\n",
              "    &lt;script src=&quot;https://maxcdn.bootstrapcdn.com/bootstrap/3.2.0/js/bootstrap.min.js&quot;&gt;&lt;/script&gt;\n",
              "    &lt;script src=&quot;https://cdnjs.cloudflare.com/ajax/libs/Leaflet.awesome-markers/2.0.2/leaflet.awesome-markers.js&quot;&gt;&lt;/script&gt;\n",
              "    &lt;link rel=&quot;stylesheet&quot; href=&quot;https://cdn.jsdelivr.net/npm/leaflet@1.4.0/dist/leaflet.css&quot;/&gt;\n",
              "    &lt;link rel=&quot;stylesheet&quot; href=&quot;https://maxcdn.bootstrapcdn.com/bootstrap/3.2.0/css/bootstrap.min.css&quot;/&gt;\n",
              "    &lt;link rel=&quot;stylesheet&quot; href=&quot;https://maxcdn.bootstrapcdn.com/bootstrap/3.2.0/css/bootstrap-theme.min.css&quot;/&gt;\n",
              "    &lt;link rel=&quot;stylesheet&quot; href=&quot;https://maxcdn.bootstrapcdn.com/font-awesome/4.6.3/css/font-awesome.min.css&quot;/&gt;\n",
              "    &lt;link rel=&quot;stylesheet&quot; href=&quot;https://cdnjs.cloudflare.com/ajax/libs/Leaflet.awesome-markers/2.0.2/leaflet.awesome-markers.css&quot;/&gt;\n",
              "    &lt;link rel=&quot;stylesheet&quot; href=&quot;https://rawcdn.githack.com/python-visualization/folium/master/folium/templates/leaflet.awesome.rotate.css&quot;/&gt;\n",
              "    &lt;style&gt;html, body {width: 100%;height: 100%;margin: 0;padding: 0;}&lt;/style&gt;\n",
              "    &lt;style&gt;#map {position:absolute;top:0;bottom:0;right:0;left:0;}&lt;/style&gt;\n",
              "    \n",
              "    &lt;meta name=&quot;viewport&quot; content=&quot;width=device-width,\n",
              "        initial-scale=1.0, maximum-scale=1.0, user-scalable=no&quot; /&gt;\n",
              "    &lt;style&gt;#map_e57c97d8d64cd3a1ba37ca916e9d33eb {\n",
              "        position: relative;\n",
              "        width: 100.0%;\n",
              "        height: 100.0%;\n",
              "        left: 0.0%;\n",
              "        top: 0.0%;\n",
              "        }\n",
              "    &lt;/style&gt;\n",
              "&lt;/head&gt;\n",
              "&lt;body&gt;    \n",
              "    \n",
              "    &lt;div class=&quot;folium-map&quot; id=&quot;map_e57c97d8d64cd3a1ba37ca916e9d33eb&quot; &gt;&lt;/div&gt;\n",
              "&lt;/body&gt;\n",
              "&lt;script&gt;    \n",
              "    \n",
              "    \n",
              "        var bounds = null;\n",
              "    \n",
              "\n",
              "    var map_e57c97d8d64cd3a1ba37ca916e9d33eb = L.map(\n",
              "        &#x27;map_e57c97d8d64cd3a1ba37ca916e9d33eb&#x27;, {\n",
              "        center: [41.316189, 2.0202714],\n",
              "        zoom: 16,\n",
              "        maxBounds: bounds,\n",
              "        layers: [],\n",
              "        worldCopyJump: false,\n",
              "        crs: L.CRS.EPSG3857,\n",
              "        zoomControl: true,\n",
              "        });\n",
              "\n",
              "\n",
              "    \n",
              "    var tile_layer_9af7489cbea6199cf86ee92691720e98 = L.tileLayer(\n",
              "        &#x27;https://{s}.tile.openstreetmap.org/{z}/{x}/{y}.png&#x27;,\n",
              "        {\n",
              "        &quot;attribution&quot;: null,\n",
              "        &quot;detectRetina&quot;: false,\n",
              "        &quot;maxNativeZoom&quot;: 18,\n",
              "        &quot;maxZoom&quot;: 18,\n",
              "        &quot;minZoom&quot;: 0,\n",
              "        &quot;noWrap&quot;: false,\n",
              "        &quot;opacity&quot;: 1,\n",
              "        &quot;subdomains&quot;: &quot;abc&quot;,\n",
              "        &quot;tms&quot;: false\n",
              "}).addTo(map_e57c97d8d64cd3a1ba37ca916e9d33eb);\n",
              "    \n",
              "        var geo_json_d0c5f461b305d94336cbd13a20623cd0 = L.geoJson(\n",
              "            {&quot;bbox&quot;: [2.011089, 41.30802, 2.026976, 41.320826], &quot;features&quot;: [{&quot;bbox&quot;: [2.011089, 41.30802, 2.026976, 41.320826], &quot;geometry&quot;: {&quot;coordinates&quot;: [[2.026976, 41.30802], [2.026831, 41.308194], [2.026809, 41.30822], [2.026838, 41.308234], [2.026888, 41.308256], [2.026667, 41.308505], [2.026365, 41.308868], [2.026294, 41.308953], [2.026306, 41.309036], [2.026336, 41.309069], [2.026422, 41.309134], [2.026372, 41.30918], [2.02631, 41.309237], [2.026263, 41.30928], [2.026236, 41.309305], [2.026204, 41.309328], [2.026155, 41.309303], [2.0261, 41.309302], [2.025826, 41.309574], [2.025715, 41.309685], [2.025093, 41.310311], [2.024853, 41.310553], [2.024106, 41.311336], [2.023679, 41.311789], [2.023633, 41.31176], [2.02358, 41.311735], [2.023559, 41.311756], [2.023468, 41.311848], [2.023414, 41.311881], [2.023417, 41.311898], [2.023414, 41.311917], [2.023395, 41.31195], [2.023356, 41.311979], [2.023312, 41.311994], [2.02331, 41.312078], [2.023261, 41.312169], [2.022895, 41.31264], [2.02282, 41.312709], [2.022733, 41.312734], [2.022702, 41.312705], [2.022614, 41.312671], [2.022516, 41.312679], [2.022472, 41.312697], [2.022437, 41.312726], [2.022414, 41.312761], [2.022405, 41.3128], [2.022406, 41.312814], [2.022409, 41.312829], [2.022414, 41.312843], [2.020978, 41.314641], [2.020606, 41.315105], [2.020832, 41.315294], [2.020633, 41.315564], [2.020259, 41.316029], [2.020165, 41.316137], [2.020148, 41.316156], [2.019827, 41.3165], [2.019704, 41.316674], [2.019634, 41.316774], [2.01947, 41.31696], [2.01916, 41.316868], [2.018844, 41.316747], [2.018403, 41.316551], [2.018139, 41.316703], [2.018076, 41.316739], [2.017896, 41.316849], [2.017709, 41.316992], [2.017577, 41.317081], [2.017184, 41.317345], [2.016903, 41.31754], [2.016328, 41.318147], [2.015775, 41.317864], [2.015195, 41.317557], [2.014556, 41.318136], [2.014211, 41.318431], [2.013857, 41.318734], [2.013207, 41.319275], [2.012648, 41.319773], [2.012069, 41.320287], [2.011323, 41.320681], [2.011089, 41.320826]], &quot;type&quot;: &quot;LineString&quot;}, &quot;properties&quot;: {&quot;highlight&quot;: {}, &quot;segments&quot;: [{&quot;distance&quot;: 1151.1, &quot;duration&quot;: 828.8, &quot;steps&quot;: [{&quot;distance&quot;: 26.3, &quot;duration&quot;: 18.9, &quot;instruction&quot;: &quot;Head northwest on Carretera de la Vila, B-204&quot;, &quot;name&quot;: &quot;Carretera de la Vila, B-204&quot;, &quot;type&quot;: 11, &quot;way_points&quot;: [0, 2]}, {&quot;distance&quot;: 7.8, &quot;duration&quot;: 5.6, &quot;instruction&quot;: &quot;Turn right&quot;, &quot;name&quot;: &quot;-&quot;, &quot;type&quot;: 1, &quot;way_points&quot;: [2, 4]}, {&quot;distance&quot;: 116.0, &quot;duration&quot;: 83.5, &quot;instruction&quot;: &quot;Turn left onto Carretera de la Vila&quot;, &quot;name&quot;: &quot;Carretera de la Vila&quot;, &quot;type&quot;: 0, &quot;way_points&quot;: [4, 10]}, {&quot;distance&quot;: 37.8, &quot;duration&quot;: 27.2, &quot;instruction&quot;: &quot;Turn left onto Carrer de la Tecnologia&quot;, &quot;name&quot;: &quot;Carrer de la Tecnologia&quot;, &quot;type&quot;: 0, &quot;way_points&quot;: [10, 17]}, {&quot;distance&quot;: 342.7, &quot;duration&quot;: 246.8, &quot;instruction&quot;: &quot;Turn right onto Carretera de la Vila&quot;, &quot;name&quot;: &quot;Carretera de la Vila&quot;, &quot;type&quot;: 1, &quot;way_points&quot;: [17, 23]}, {&quot;distance&quot;: 10.3, &quot;duration&quot;: 7.4, &quot;instruction&quot;: &quot;Turn left onto Carretera de la Vila&quot;, &quot;name&quot;: &quot;Carretera de la Vila&quot;, &quot;type&quot;: 0, &quot;way_points&quot;: [23, 25]}, {&quot;distance&quot;: 21.4, &quot;duration&quot;: 15.4, &quot;instruction&quot;: &quot;Turn right onto Carretera de la Vila, B-204&quot;, &quot;name&quot;: &quot;Carretera de la Vila, B-204&quot;, &quot;type&quot;: 1, &quot;way_points&quot;: [25, 28]}, {&quot;distance&quot;: 115.3, &quot;duration&quot;: 83.0, &quot;exit_number&quot;: 3, &quot;instruction&quot;: &quot;Enter the roundabout and take the 3rd exit onto Carretera de la Vila, B-204&quot;, &quot;name&quot;: &quot;Carretera de la Vila, B-204&quot;, &quot;type&quot;: 7, &quot;way_points&quot;: [28, 38]}, {&quot;distance&quot;: 364.5, &quot;duration&quot;: 262.5, &quot;exit_number&quot;: 3, &quot;instruction&quot;: &quot;Enter the roundabout and take the 3rd exit onto Carretera de la Vila, B-204&quot;, &quot;name&quot;: &quot;Carretera de la Vila, B-204&quot;, &quot;type&quot;: 7, &quot;way_points&quot;: [38, 51]}, {&quot;distance&quot;: 109.0, &quot;duration&quot;: 78.5, &quot;instruction&quot;: &quot;Turn left onto Carretera de la Vila, B-204&quot;, &quot;name&quot;: &quot;Carretera de la Vila, B-204&quot;, &quot;type&quot;: 0, &quot;way_points&quot;: [51, 54]}, {&quot;distance&quot;: 0.0, &quot;duration&quot;: 0.0, &quot;instruction&quot;: &quot;Arrive at Carretera de la Vila, B-204, on the left&quot;, &quot;name&quot;: &quot;-&quot;, &quot;type&quot;: 10, &quot;way_points&quot;: [54, 54]}]}, {&quot;distance&quot;: 1076.5, &quot;duration&quot;: 775.1, &quot;steps&quot;: [{&quot;distance&quot;: 109.2, &quot;duration&quot;: 78.6, &quot;instruction&quot;: &quot;Head northwest on Carrer d&#x27;\\u00c0ngel Guimer\\u00e0&quot;, &quot;name&quot;: &quot;Carrer d&#x27;\\u00c0ngel Guimer\\u00e0&quot;, &quot;type&quot;: 11, &quot;way_points&quot;: [54, 59]}, {&quot;distance&quot;: 100.3, &quot;duration&quot;: 72.2, &quot;instruction&quot;: &quot;Turn left&quot;, &quot;name&quot;: &quot;-&quot;, &quot;type&quot;: 0, &quot;way_points&quot;: [59, 62]}, {&quot;distance&quot;: 249.7, &quot;duration&quot;: 179.8, &quot;instruction&quot;: &quot;Turn right onto Carrer Del Sol&quot;, &quot;name&quot;: &quot;Carrer Del Sol&quot;, &quot;type&quot;: 1, &quot;way_points&quot;: [62, 70]}, {&quot;distance&quot;: 115.2, &quot;duration&quot;: 82.9, &quot;instruction&quot;: &quot;Turn left onto Carrer de Girona&quot;, &quot;name&quot;: &quot;Carrer de Girona&quot;, &quot;type&quot;: 0, &quot;way_points&quot;: [70, 72]}, {&quot;distance&quot;: 502.1, &quot;duration&quot;: 361.5, &quot;instruction&quot;: &quot;Turn right onto Carrer del Doctor Reig&quot;, &quot;name&quot;: &quot;Carrer del Doctor Reig&quot;, &quot;type&quot;: 1, &quot;way_points&quot;: [72, 80]}, {&quot;distance&quot;: 0.0, &quot;duration&quot;: 0.0, &quot;instruction&quot;: &quot;Arrive at Carrer del Doctor Reig, on the right&quot;, &quot;name&quot;: &quot;-&quot;, &quot;type&quot;: 10, &quot;way_points&quot;: [80, 80]}]}], &quot;style&quot;: {}, &quot;summary&quot;: {&quot;distance&quot;: 2227.6, &quot;duration&quot;: 1603.9}, &quot;way_points&quot;: [0, 54, 80]}, &quot;type&quot;: &quot;Feature&quot;}], &quot;metadata&quot;: {&quot;attribution&quot;: &quot;openrouteservice.org | OpenStreetMap contributors&quot;, &quot;engine&quot;: {&quot;build_date&quot;: &quot;2022-02-18T19:37:41Z&quot;, &quot;graph_date&quot;: &quot;2022-05-03T06:30:15Z&quot;, &quot;version&quot;: &quot;6.7.0&quot;}, &quot;query&quot;: {&quot;coordinates&quot;: [[2.026934, 41.308], [2.0202714, 41.316189], [2.011119, 41.320853]], &quot;format&quot;: &quot;geojson&quot;, &quot;profile&quot;: &quot;foot-walking&quot;}, &quot;service&quot;: &quot;routing&quot;, &quot;timestamp&quot;: 1653591140043}, &quot;type&quot;: &quot;FeatureCollection&quot;},\n",
              "            {\n",
              "            }\n",
              "        ).addTo(map_e57c97d8d64cd3a1ba37ca916e9d33eb );\n",
              "        geo_json_d0c5f461b305d94336cbd13a20623cd0.setStyle(function(feature) {return feature.properties.style;});\n",
              "        \n",
              "    \n",
              "            var layer_control_9ee2efddb3ed6e6b69767bd4bad5f8ea = {\n",
              "                base_layers : { &quot;openstreetmap&quot; : tile_layer_9af7489cbea6199cf86ee92691720e98, },\n",
              "                overlays : { &quot;Cami Del Mar&quot; : geo_json_d0c5f461b305d94336cbd13a20623cd0, }\n",
              "                };\n",
              "            L.control.layers(\n",
              "                layer_control_9ee2efddb3ed6e6b69767bd4bad5f8ea.base_layers,\n",
              "                layer_control_9ee2efddb3ed6e6b69767bd4bad5f8ea.overlays,\n",
              "                {position: &#x27;topright&#x27;,\n",
              "                 collapsed: true,\n",
              "                 autoZIndex: true\n",
              "                }).addTo(map_e57c97d8d64cd3a1ba37ca916e9d33eb);\n",
              "            \n",
              "        \n",
              "&lt;/script&gt;\" style=\"position:absolute;width:100%;height:100%;left:0;top:0;border:none !important;\" allowfullscreen webkitallowfullscreen mozallowfullscreen></iframe></div></div>"
            ]
          },
          "metadata": {},
          "execution_count": 36
        }
      ]
    },
    {
      "cell_type": "markdown",
      "metadata": {
        "id": "vXXMAYz5_WN2"
      },
      "source": [
        "### distance and duration"
      ]
    },
    {
      "cell_type": "code",
      "execution_count": 37,
      "metadata": {
        "outputId": "2a82239d-72ea-4261-bcb4-9236646f5bfb",
        "colab": {
          "base_uri": "https://localhost:8080/"
        },
        "id": "76N5ppAubzKS"
      },
      "outputs": [
        {
          "output_type": "stream",
          "name": "stdout",
          "text": [
            "0.7152601581 miles\n",
            "0.2302224064 hours\n",
            "\n"
          ]
        }
      ],
      "source": [
        "# distance and duration\n",
        "print(route_camiDelMar['features'][0]['properties']['segments'][0]['distance']*0.000621371, 'miles')\n",
        "print(route_camiDelMar['features'][0]['properties']['segments'][0]['duration']*0.000277778, 'hours\\n')"
      ]
    },
    {
      "cell_type": "markdown",
      "source": [
        "### directions"
      ],
      "metadata": {
        "id": "evTeyEc9cp9B"
      }
    },
    {
      "cell_type": "code",
      "source": [
        "# distances are in meters\n",
        "# timings are in seconds\n",
        "print('directions')\n",
        "for index, i in enumerate(route_camiDelMar['features'][0]['properties']['segments'][0]['steps']):\n",
        "    print(index+1, i, '\\n')"
      ],
      "metadata": {
        "colab": {
          "base_uri": "https://localhost:8080/"
        },
        "id": "axf7k4kNb0hh",
        "outputId": "ee2bce98-b97d-4997-fda1-203bbcc2234a"
      },
      "execution_count": 38,
      "outputs": [
        {
          "output_type": "stream",
          "name": "stdout",
          "text": [
            "directions\n",
            "1 {'distance': 26.3, 'duration': 18.9, 'type': 11, 'instruction': 'Head northwest on Carretera de la Vila, B-204', 'name': 'Carretera de la Vila, B-204', 'way_points': [0, 2]} \n",
            "\n",
            "2 {'distance': 7.8, 'duration': 5.6, 'type': 1, 'instruction': 'Turn right', 'name': '-', 'way_points': [2, 4]} \n",
            "\n",
            "3 {'distance': 116.0, 'duration': 83.5, 'type': 0, 'instruction': 'Turn left onto Carretera de la Vila', 'name': 'Carretera de la Vila', 'way_points': [4, 10]} \n",
            "\n",
            "4 {'distance': 37.8, 'duration': 27.2, 'type': 0, 'instruction': 'Turn left onto Carrer de la Tecnologia', 'name': 'Carrer de la Tecnologia', 'way_points': [10, 17]} \n",
            "\n",
            "5 {'distance': 342.7, 'duration': 246.8, 'type': 1, 'instruction': 'Turn right onto Carretera de la Vila', 'name': 'Carretera de la Vila', 'way_points': [17, 23]} \n",
            "\n",
            "6 {'distance': 10.3, 'duration': 7.4, 'type': 0, 'instruction': 'Turn left onto Carretera de la Vila', 'name': 'Carretera de la Vila', 'way_points': [23, 25]} \n",
            "\n",
            "7 {'distance': 21.4, 'duration': 15.4, 'type': 1, 'instruction': 'Turn right onto Carretera de la Vila, B-204', 'name': 'Carretera de la Vila, B-204', 'way_points': [25, 28]} \n",
            "\n",
            "8 {'distance': 115.3, 'duration': 83.0, 'type': 7, 'instruction': 'Enter the roundabout and take the 3rd exit onto Carretera de la Vila, B-204', 'name': 'Carretera de la Vila, B-204', 'exit_number': 3, 'way_points': [28, 38]} \n",
            "\n",
            "9 {'distance': 364.5, 'duration': 262.5, 'type': 7, 'instruction': 'Enter the roundabout and take the 3rd exit onto Carretera de la Vila, B-204', 'name': 'Carretera de la Vila, B-204', 'exit_number': 3, 'way_points': [38, 51]} \n",
            "\n",
            "10 {'distance': 109.0, 'duration': 78.5, 'type': 0, 'instruction': 'Turn left onto Carretera de la Vila, B-204', 'name': 'Carretera de la Vila, B-204', 'way_points': [51, 54]} \n",
            "\n",
            "11 {'distance': 0.0, 'duration': 0.0, 'type': 10, 'instruction': 'Arrive at Carretera de la Vila, B-204, on the left', 'name': '-', 'way_points': [54, 54]} \n",
            "\n"
          ]
        }
      ]
    },
    {
      "cell_type": "markdown",
      "source": [
        "### position"
      ],
      "metadata": {
        "id": "l4wcVoqkt_-7"
      }
    },
    {
      "cell_type": "code",
      "execution_count": 39,
      "metadata": {
        "scrolled": false,
        "colab": {
          "base_uri": "https://localhost:8080/",
          "height": 696
        },
        "outputId": "12c046fc-11dc-4749-fc2a-58289519b4aa",
        "id": "6MB5scmdbbFW"
      },
      "outputs": [
        {
          "output_type": "execute_result",
          "data": {
            "text/plain": [
              "<folium.folium.Map at 0x7fed1d707e10>"
            ],
            "text/html": [
              "<div style=\"width:100%;\"><div style=\"position:relative;width:100%;height:0;padding-bottom:60%;\"><span style=\"color:#565656\">Make this Notebook Trusted to load map: File -> Trust Notebook</span><iframe srcdoc=\"&lt;!DOCTYPE html&gt;\n",
              "&lt;head&gt;    \n",
              "    &lt;meta http-equiv=&quot;content-type&quot; content=&quot;text/html; charset=UTF-8&quot; /&gt;\n",
              "    &lt;script&gt;L_PREFER_CANVAS=false; L_NO_TOUCH=false; L_DISABLE_3D=false;&lt;/script&gt;\n",
              "    &lt;script src=&quot;https://cdn.jsdelivr.net/npm/leaflet@1.4.0/dist/leaflet.js&quot;&gt;&lt;/script&gt;\n",
              "    &lt;script src=&quot;https://code.jquery.com/jquery-1.12.4.min.js&quot;&gt;&lt;/script&gt;\n",
              "    &lt;script src=&quot;https://maxcdn.bootstrapcdn.com/bootstrap/3.2.0/js/bootstrap.min.js&quot;&gt;&lt;/script&gt;\n",
              "    &lt;script src=&quot;https://cdnjs.cloudflare.com/ajax/libs/Leaflet.awesome-markers/2.0.2/leaflet.awesome-markers.js&quot;&gt;&lt;/script&gt;\n",
              "    &lt;link rel=&quot;stylesheet&quot; href=&quot;https://cdn.jsdelivr.net/npm/leaflet@1.4.0/dist/leaflet.css&quot;/&gt;\n",
              "    &lt;link rel=&quot;stylesheet&quot; href=&quot;https://maxcdn.bootstrapcdn.com/bootstrap/3.2.0/css/bootstrap.min.css&quot;/&gt;\n",
              "    &lt;link rel=&quot;stylesheet&quot; href=&quot;https://maxcdn.bootstrapcdn.com/bootstrap/3.2.0/css/bootstrap-theme.min.css&quot;/&gt;\n",
              "    &lt;link rel=&quot;stylesheet&quot; href=&quot;https://maxcdn.bootstrapcdn.com/font-awesome/4.6.3/css/font-awesome.min.css&quot;/&gt;\n",
              "    &lt;link rel=&quot;stylesheet&quot; href=&quot;https://cdnjs.cloudflare.com/ajax/libs/Leaflet.awesome-markers/2.0.2/leaflet.awesome-markers.css&quot;/&gt;\n",
              "    &lt;link rel=&quot;stylesheet&quot; href=&quot;https://rawcdn.githack.com/python-visualization/folium/master/folium/templates/leaflet.awesome.rotate.css&quot;/&gt;\n",
              "    &lt;style&gt;html, body {width: 100%;height: 100%;margin: 0;padding: 0;}&lt;/style&gt;\n",
              "    &lt;style&gt;#map {position:absolute;top:0;bottom:0;right:0;left:0;}&lt;/style&gt;\n",
              "    \n",
              "    &lt;meta name=&quot;viewport&quot; content=&quot;width=device-width,\n",
              "        initial-scale=1.0, maximum-scale=1.0, user-scalable=no&quot; /&gt;\n",
              "    &lt;style&gt;#map_7ea946298eb267dbc7c9a8da6d4ec780 {\n",
              "        position: relative;\n",
              "        width: 100.0%;\n",
              "        height: 100.0%;\n",
              "        left: 0.0%;\n",
              "        top: 0.0%;\n",
              "        }\n",
              "    &lt;/style&gt;\n",
              "&lt;/head&gt;\n",
              "&lt;body&gt;    \n",
              "    \n",
              "    &lt;div class=&quot;folium-map&quot; id=&quot;map_7ea946298eb267dbc7c9a8da6d4ec780&quot; &gt;&lt;/div&gt;\n",
              "&lt;/body&gt;\n",
              "&lt;script&gt;    \n",
              "    \n",
              "    \n",
              "        var bounds = null;\n",
              "    \n",
              "\n",
              "    var map_7ea946298eb267dbc7c9a8da6d4ec780 = L.map(\n",
              "        &#x27;map_7ea946298eb267dbc7c9a8da6d4ec780&#x27;, {\n",
              "        center: [41.316189, 2.0202714],\n",
              "        zoom: 14,\n",
              "        maxBounds: bounds,\n",
              "        layers: [],\n",
              "        worldCopyJump: false,\n",
              "        crs: L.CRS.EPSG3857,\n",
              "        zoomControl: true,\n",
              "        });\n",
              "\n",
              "\n",
              "    \n",
              "    var tile_layer_fb026a3833b2087e1155b4bd9093d91a = L.tileLayer(\n",
              "        &#x27;https://cartodb-basemaps-{s}.global.ssl.fastly.net/light_all/{z}/{x}/{y}.png&#x27;,\n",
              "        {\n",
              "        &quot;attribution&quot;: null,\n",
              "        &quot;detectRetina&quot;: false,\n",
              "        &quot;maxNativeZoom&quot;: 18,\n",
              "        &quot;maxZoom&quot;: 18,\n",
              "        &quot;minZoom&quot;: 0,\n",
              "        &quot;noWrap&quot;: false,\n",
              "        &quot;opacity&quot;: 1,\n",
              "        &quot;subdomains&quot;: &quot;abc&quot;,\n",
              "        &quot;tms&quot;: false\n",
              "}).addTo(map_7ea946298eb267dbc7c9a8da6d4ec780);\n",
              "    \n",
              "        var marker_486488ad02e8fca260798772e5e90071 = L.marker(\n",
              "            [41.316189, 2.0202714],\n",
              "            {\n",
              "                icon: new L.Icon.Default(),\n",
              "                }\n",
              "            ).addTo(map_7ea946298eb267dbc7c9a8da6d4ec780);\n",
              "        \n",
              "    \n",
              "\n",
              "                var icon_2ce26e17347a5d5616d3727db870f16c = L.AwesomeMarkers.icon({\n",
              "                    icon: &#x27;info-sign&#x27;,\n",
              "                    iconColor: &#x27;white&#x27;,\n",
              "                    markerColor: &#x27;red&#x27;,\n",
              "                    prefix: &#x27;glyphicon&#x27;,\n",
              "                    extraClasses: &#x27;fa-rotate-0&#x27;\n",
              "                    });\n",
              "                marker_486488ad02e8fca260798772e5e90071.setIcon(icon_2ce26e17347a5d5616d3727db870f16c);\n",
              "            \n",
              "    \n",
              "\n",
              "            var circle_aed1816d37768ff18010b14698b19c59 = L.circle(\n",
              "                [41.316189, 2.0202714],\n",
              "                {\n",
              "  &quot;bubblingMouseEvents&quot;: true,\n",
              "  &quot;color&quot;: &quot;green&quot;,\n",
              "  &quot;dashArray&quot;: null,\n",
              "  &quot;dashOffset&quot;: null,\n",
              "  &quot;fill&quot;: false,\n",
              "  &quot;fillColor&quot;: &quot;green&quot;,\n",
              "  &quot;fillOpacity&quot;: 0.2,\n",
              "  &quot;fillRule&quot;: &quot;evenodd&quot;,\n",
              "  &quot;lineCap&quot;: &quot;round&quot;,\n",
              "  &quot;lineJoin&quot;: &quot;round&quot;,\n",
              "  &quot;opacity&quot;: 1.0,\n",
              "  &quot;radius&quot;: 2000,\n",
              "  &quot;stroke&quot;: true,\n",
              "  &quot;weight&quot;: 3\n",
              "}\n",
              "                )\n",
              "                .addTo(map_7ea946298eb267dbc7c9a8da6d4ec780);\n",
              "            \n",
              "&lt;/script&gt;\" style=\"position:absolute;width:100%;height:100%;left:0;top:0;border:none !important;\" allowfullscreen webkitallowfullscreen mozallowfullscreen></iframe></div></div>"
            ]
          },
          "metadata": {},
          "execution_count": 39
        }
      ],
      "source": [
        "geojson = {\"type\": \"point\", \"coordinates\": [41.316189, 2.0202714]}\n",
        "coordinates = [41.316189, 2.0202714]\n",
        "pois = client.places(request='pois',\n",
        "                     geojson=geojson,\n",
        "                     buffer=2000,\n",
        "                     filter_category_ids=[221, 222, 223, 224, 225])\n",
        "map_pois = folium.Map(location=coordinates, tiles='cartodbpositron', zoom_start=14)\n",
        "folium.Marker(coordinates, icon=folium.Icon(color='red')).add_to(map_pois)\n",
        "folium.Circle(radius=2000, location=coordinates, color='green').add_to(map_pois)\n",
        "for poi in pois['features']:\n",
        "    folium.Marker(location=list(reversed(poi['geometry']['coordinates'])),\n",
        "                  icon=folium.Icon(color='blue'),\n",
        "                  popup=folium.Popup(poi['properties']['osm_tags']['name'])).add_to(map_pois)\n",
        "map_pois"
      ]
    },
    {
      "cell_type": "markdown",
      "source": [
        "# DEMO"
      ],
      "metadata": {
        "id": "iOQgh6lMlpOR"
      }
    },
    {
      "cell_type": "markdown",
      "source": [
        "## Enter a file path:"
      ],
      "metadata": {
        "id": "BXrKi4CWYgHK"
      }
    },
    {
      "cell_type": "code",
      "source": [
        "#@markdown ### Enter a file path:\n",
        "file_path = \"./data/tickets/ticket-gucci-1.jpg\" #@param {type:\"string\"}\n",
        "#@markdown ---\n",
        "\n",
        "response = veryfi_client.process_document(file_path)\n",
        "get_resp(response)"
      ],
      "metadata": {
        "cellView": "form",
        "colab": {
          "base_uri": "https://localhost:8080/"
        },
        "id": "Fg7VqFIpX8R8",
        "outputId": "1b99d9c7-a4dd-40bb-81ce-d7c3eb5529ee"
      },
      "execution_count": 40,
      "outputs": [
        {
          "output_type": "stream",
          "name": "stdout",
          "text": [
            "Total:\t90.0\n",
            "Divisa:\tGBP\n",
            "Fecha:\t2014-03-22 12:07:24\n",
            "Ticket:\t9979\n",
            "Items:\tMENS SILK ACC 34499546200 - 2065 0099\n",
            "Salesperson: Bicester (TeamSales)\n",
            "Precio:\t90.0\n",
            "Cant:\t1.0\n",
            "Tax:\tNone\n",
            "Total:\t90.0\n",
            "Nombre:\tVisa\n",
            "Método:\tvisa\n",
            "Razón:\tGucci Outlet\n",
            "Tipo:\tjewelry_store,clothing_store,store\n",
            "Logo:\thttps://cdn.veryfi.com/logos/us/572571650.png\n",
            "Dir:\tUnit 109/110, Village, 50 Pingle Dr, Bicester OX26 6WD, UK\n",
            "Categ:\tjewelry_store,clothing_store,store\n",
            "img:\thttps://scdn.veryfi.com/receipts/44856943-cc2e-4add-9e9e-666018817303/f377e2b2-c47e-4448-9fc1-4ca943c0da24.jpg?Expires=1653592179&Signature=Ze6CVd5q15wALlxDvo85SSdbwKstlLr~S4nXYkVBnCPzzE0zKb3QDrkguihe2yZ7zYqjioozxPVP9TuG9jYdzFL3zD-PUMElG18s8X-VvH~ji2DNl5CAVyUmtur3i-tiypHgNPW63qt~J9fpafuVs72Z1MoK7TULdSYYRJIkEsOhfjFrlvkChtvTcRw7T~BCLTBCiEjDhrv1GvgDB5rOaiKKtRIcys27xUCiyEajVfKQ-eNbwUtWIBbE9XgiYgtuNdNirvNzXt223Si-H6yAV8cUzUFMZ4tywf9FnntK4I9hgo-GECtvyj2QXJ3XThu-jX9ATlkA6Fe-ixndiXhb4g__&Key-Pair-Id=APKAJCILBXEJFZF4DCHQ\n"
          ]
        }
      ]
    },
    {
      "cell_type": "code",
      "source": [
        "coord_camiDelMar = [[2.026934,41.308000], [2.020449,41.316189], [2.011119,41.320853]]\n",
        "route_camiDelMar = client.directions(coordinates=coord_camiDelMar,profile='foot-walking',format='geojson')\n",
        "map_directions = folium.Map(location=[41.316189, 2.020449], zoom_start=16)\n",
        "folium.GeoJson(route_camiDelMar, name='Cami Del Mar').add_to(map_directions)\n",
        "folium.LayerControl().add_to(map_directions)\n",
        "\n",
        "#@markdown ### Enter a file path:\n",
        "file_path = \"./data/tickets/ticket-gucci-1.jpg\" #@param {type:\"string\"}\n",
        "#@markdown ---\n",
        "\n",
        "response = veryfi_client.process_document(file_path)\n",
        "if re.findall(\"clothing\", response[\"vendor\"][\"type\"]):\n",
        "    print(\"Tienes 90 puntos VILLAWHATT para gastar en 'CAPRICHOS, MODA I COMPLEMENTS'\\n\")\n",
        "    print(\"Puedes encotrarla en {}\\n\".format(stores[stores.sector == \"Moda i complements\"][\"dir\"][13]))\n",
        "    print(\"Te recomiendo visitar la Torre del Baró que te queda de pasada!!!\")\n",
        "\n"
      ],
      "metadata": {
        "colab": {
          "base_uri": "https://localhost:8080/"
        },
        "outputId": "968673b8-dd63-4d73-ab42-bc145fdb4f34",
        "id": "D2SHVVFHN_Qn",
        "cellView": "form"
      },
      "execution_count": 41,
      "outputs": [
        {
          "output_type": "stream",
          "name": "stdout",
          "text": [
            "Tienes 90 puntos VILLAWHATT para gastar en 'CAPRICHOS, MODA I COMPLEMENTS'\n",
            "\n",
            "Puedes encotrarla en Carrer del Doctor Reig, 81\n",
            "\n",
            "Te recomiendo visitar la Torre del Baró que te queda de pasada!!!\n"
          ]
        }
      ]
    },
    {
      "cell_type": "code",
      "source": [
        "map_directions"
      ],
      "metadata": {
        "colab": {
          "base_uri": "https://localhost:8080/",
          "height": 876
        },
        "id": "eV47-SG4oRPO",
        "outputId": "d0350f51-aefc-485c-8b68-2e3aa2be70a3"
      },
      "execution_count": 42,
      "outputs": [
        {
          "output_type": "execute_result",
          "data": {
            "text/plain": [
              "<folium.folium.Map at 0x7fed1d20f2d0>"
            ],
            "text/html": [
              "<div style=\"width:100%;\"><div style=\"position:relative;width:100%;height:0;padding-bottom:60%;\"><span style=\"color:#565656\">Make this Notebook Trusted to load map: File -> Trust Notebook</span><iframe srcdoc=\"&lt;!DOCTYPE html&gt;\n",
              "&lt;head&gt;    \n",
              "    &lt;meta http-equiv=&quot;content-type&quot; content=&quot;text/html; charset=UTF-8&quot; /&gt;\n",
              "    &lt;script&gt;L_PREFER_CANVAS=false; L_NO_TOUCH=false; L_DISABLE_3D=false;&lt;/script&gt;\n",
              "    &lt;script src=&quot;https://cdn.jsdelivr.net/npm/leaflet@1.4.0/dist/leaflet.js&quot;&gt;&lt;/script&gt;\n",
              "    &lt;script src=&quot;https://code.jquery.com/jquery-1.12.4.min.js&quot;&gt;&lt;/script&gt;\n",
              "    &lt;script src=&quot;https://maxcdn.bootstrapcdn.com/bootstrap/3.2.0/js/bootstrap.min.js&quot;&gt;&lt;/script&gt;\n",
              "    &lt;script src=&quot;https://cdnjs.cloudflare.com/ajax/libs/Leaflet.awesome-markers/2.0.2/leaflet.awesome-markers.js&quot;&gt;&lt;/script&gt;\n",
              "    &lt;link rel=&quot;stylesheet&quot; href=&quot;https://cdn.jsdelivr.net/npm/leaflet@1.4.0/dist/leaflet.css&quot;/&gt;\n",
              "    &lt;link rel=&quot;stylesheet&quot; href=&quot;https://maxcdn.bootstrapcdn.com/bootstrap/3.2.0/css/bootstrap.min.css&quot;/&gt;\n",
              "    &lt;link rel=&quot;stylesheet&quot; href=&quot;https://maxcdn.bootstrapcdn.com/bootstrap/3.2.0/css/bootstrap-theme.min.css&quot;/&gt;\n",
              "    &lt;link rel=&quot;stylesheet&quot; href=&quot;https://maxcdn.bootstrapcdn.com/font-awesome/4.6.3/css/font-awesome.min.css&quot;/&gt;\n",
              "    &lt;link rel=&quot;stylesheet&quot; href=&quot;https://cdnjs.cloudflare.com/ajax/libs/Leaflet.awesome-markers/2.0.2/leaflet.awesome-markers.css&quot;/&gt;\n",
              "    &lt;link rel=&quot;stylesheet&quot; href=&quot;https://rawcdn.githack.com/python-visualization/folium/master/folium/templates/leaflet.awesome.rotate.css&quot;/&gt;\n",
              "    &lt;style&gt;html, body {width: 100%;height: 100%;margin: 0;padding: 0;}&lt;/style&gt;\n",
              "    &lt;style&gt;#map {position:absolute;top:0;bottom:0;right:0;left:0;}&lt;/style&gt;\n",
              "    \n",
              "    &lt;meta name=&quot;viewport&quot; content=&quot;width=device-width,\n",
              "        initial-scale=1.0, maximum-scale=1.0, user-scalable=no&quot; /&gt;\n",
              "    &lt;style&gt;#map_24299331ae3d543290866f1c36c9aefe {\n",
              "        position: relative;\n",
              "        width: 100.0%;\n",
              "        height: 100.0%;\n",
              "        left: 0.0%;\n",
              "        top: 0.0%;\n",
              "        }\n",
              "    &lt;/style&gt;\n",
              "&lt;/head&gt;\n",
              "&lt;body&gt;    \n",
              "    \n",
              "    &lt;div class=&quot;folium-map&quot; id=&quot;map_24299331ae3d543290866f1c36c9aefe&quot; &gt;&lt;/div&gt;\n",
              "&lt;/body&gt;\n",
              "&lt;script&gt;    \n",
              "    \n",
              "    \n",
              "        var bounds = null;\n",
              "    \n",
              "\n",
              "    var map_24299331ae3d543290866f1c36c9aefe = L.map(\n",
              "        &#x27;map_24299331ae3d543290866f1c36c9aefe&#x27;, {\n",
              "        center: [41.316189, 2.020449],\n",
              "        zoom: 16,\n",
              "        maxBounds: bounds,\n",
              "        layers: [],\n",
              "        worldCopyJump: false,\n",
              "        crs: L.CRS.EPSG3857,\n",
              "        zoomControl: true,\n",
              "        });\n",
              "\n",
              "\n",
              "    \n",
              "    var tile_layer_097bed327f88cb10e546997d777e8417 = L.tileLayer(\n",
              "        &#x27;https://{s}.tile.openstreetmap.org/{z}/{x}/{y}.png&#x27;,\n",
              "        {\n",
              "        &quot;attribution&quot;: null,\n",
              "        &quot;detectRetina&quot;: false,\n",
              "        &quot;maxNativeZoom&quot;: 18,\n",
              "        &quot;maxZoom&quot;: 18,\n",
              "        &quot;minZoom&quot;: 0,\n",
              "        &quot;noWrap&quot;: false,\n",
              "        &quot;opacity&quot;: 1,\n",
              "        &quot;subdomains&quot;: &quot;abc&quot;,\n",
              "        &quot;tms&quot;: false\n",
              "}).addTo(map_24299331ae3d543290866f1c36c9aefe);\n",
              "    \n",
              "        var geo_json_018e2789b337f15e15c25aec972a30de = L.geoJson(\n",
              "            {&quot;bbox&quot;: [2.011089, 41.30802, 2.026976, 41.320826], &quot;features&quot;: [{&quot;bbox&quot;: [2.011089, 41.30802, 2.026976, 41.320826], &quot;geometry&quot;: {&quot;coordinates&quot;: [[2.026976, 41.30802], [2.026831, 41.308194], [2.026809, 41.30822], [2.026838, 41.308234], [2.026888, 41.308256], [2.026667, 41.308505], [2.026365, 41.308868], [2.026294, 41.308953], [2.026306, 41.309036], [2.026336, 41.309069], [2.026422, 41.309134], [2.026372, 41.30918], [2.02631, 41.309237], [2.026263, 41.30928], [2.026236, 41.309305], [2.026204, 41.309328], [2.026155, 41.309303], [2.0261, 41.309302], [2.025826, 41.309574], [2.025715, 41.309685], [2.025093, 41.310311], [2.024853, 41.310553], [2.024106, 41.311336], [2.023679, 41.311789], [2.023633, 41.31176], [2.02358, 41.311735], [2.023559, 41.311756], [2.023468, 41.311848], [2.023414, 41.311881], [2.023417, 41.311898], [2.023414, 41.311917], [2.023395, 41.31195], [2.023356, 41.311979], [2.023312, 41.311994], [2.02331, 41.312078], [2.023261, 41.312169], [2.022895, 41.31264], [2.02282, 41.312709], [2.022733, 41.312734], [2.022702, 41.312705], [2.022614, 41.312671], [2.022516, 41.312679], [2.022472, 41.312697], [2.022437, 41.312726], [2.022414, 41.312761], [2.022405, 41.3128], [2.022406, 41.312814], [2.022409, 41.312829], [2.022414, 41.312843], [2.020978, 41.314641], [2.020606, 41.315105], [2.020832, 41.315294], [2.020633, 41.315564], [2.020259, 41.316029], [2.020496, 41.316102], [2.020259, 41.316029], [2.019442, 41.31573], [2.019168, 41.315643], [2.019017, 41.315597], [2.018793, 41.315554], [2.018599, 41.315538], [2.017661, 41.315495], [2.016889, 41.315471], [2.01647, 41.315523], [2.016459, 41.315556], [2.016342, 41.315767], [2.016141, 41.31611], [2.015954, 41.31643], [2.015737, 41.316799], [2.015564, 41.317042], [2.015472, 41.317152], [2.015195, 41.317557], [2.014556, 41.318136], [2.014211, 41.318431], [2.013857, 41.318734], [2.013207, 41.319275], [2.012648, 41.319773], [2.012069, 41.320287], [2.011323, 41.320681], [2.011089, 41.320826]], &quot;type&quot;: &quot;LineString&quot;}, &quot;properties&quot;: {&quot;highlight&quot;: {}, &quot;segments&quot;: [{&quot;distance&quot;: 1158.1, &quot;duration&quot;: 833.8, &quot;steps&quot;: [{&quot;distance&quot;: 26.3, &quot;duration&quot;: 18.9, &quot;instruction&quot;: &quot;Head northwest on Carretera de la Vila, B-204&quot;, &quot;name&quot;: &quot;Carretera de la Vila, B-204&quot;, &quot;type&quot;: 11, &quot;way_points&quot;: [0, 2]}, {&quot;distance&quot;: 7.8, &quot;duration&quot;: 5.6, &quot;instruction&quot;: &quot;Turn right&quot;, &quot;name&quot;: &quot;-&quot;, &quot;type&quot;: 1, &quot;way_points&quot;: [2, 4]}, {&quot;distance&quot;: 116.0, &quot;duration&quot;: 83.5, &quot;instruction&quot;: &quot;Turn left onto Carretera de la Vila&quot;, &quot;name&quot;: &quot;Carretera de la Vila&quot;, &quot;type&quot;: 0, &quot;way_points&quot;: [4, 10]}, {&quot;distance&quot;: 37.8, &quot;duration&quot;: 27.2, &quot;instruction&quot;: &quot;Turn left onto Carrer de la Tecnologia&quot;, &quot;name&quot;: &quot;Carrer de la Tecnologia&quot;, &quot;type&quot;: 0, &quot;way_points&quot;: [10, 17]}, {&quot;distance&quot;: 342.7, &quot;duration&quot;: 246.8, &quot;instruction&quot;: &quot;Turn right onto Carretera de la Vila&quot;, &quot;name&quot;: &quot;Carretera de la Vila&quot;, &quot;type&quot;: 1, &quot;way_points&quot;: [17, 23]}, {&quot;distance&quot;: 10.3, &quot;duration&quot;: 7.4, &quot;instruction&quot;: &quot;Turn left onto Carretera de la Vila&quot;, &quot;name&quot;: &quot;Carretera de la Vila&quot;, &quot;type&quot;: 0, &quot;way_points&quot;: [23, 25]}, {&quot;distance&quot;: 21.4, &quot;duration&quot;: 15.4, &quot;instruction&quot;: &quot;Turn right onto Carretera de la Vila, B-204&quot;, &quot;name&quot;: &quot;Carretera de la Vila, B-204&quot;, &quot;type&quot;: 1, &quot;way_points&quot;: [25, 28]}, {&quot;distance&quot;: 115.3, &quot;duration&quot;: 83.0, &quot;exit_number&quot;: 3, &quot;instruction&quot;: &quot;Enter the roundabout and take the 3rd exit onto Carretera de la Vila, B-204&quot;, &quot;name&quot;: &quot;Carretera de la Vila, B-204&quot;, &quot;type&quot;: 7, &quot;way_points&quot;: [28, 38]}, {&quot;distance&quot;: 364.5, &quot;duration&quot;: 262.5, &quot;exit_number&quot;: 3, &quot;instruction&quot;: &quot;Enter the roundabout and take the 3rd exit onto Carretera de la Vila, B-204&quot;, &quot;name&quot;: &quot;Carretera de la Vila, B-204&quot;, &quot;type&quot;: 7, &quot;way_points&quot;: [38, 51]}, {&quot;distance&quot;: 94.6, &quot;duration&quot;: 68.1, &quot;instruction&quot;: &quot;Turn left onto Carretera de la Vila, B-204&quot;, &quot;name&quot;: &quot;Carretera de la Vila, B-204&quot;, &quot;type&quot;: 0, &quot;way_points&quot;: [51, 53]}, {&quot;distance&quot;: 21.4, &quot;duration&quot;: 15.4, &quot;instruction&quot;: &quot;Turn right onto Passatde del Dr. Ros&quot;, &quot;name&quot;: &quot;Passatde del Dr. Ros&quot;, &quot;type&quot;: 1, &quot;way_points&quot;: [53, 54]}, {&quot;distance&quot;: 0.0, &quot;duration&quot;: 0.0, &quot;instruction&quot;: &quot;Arrive at Passatde del Dr. Ros, on the left&quot;, &quot;name&quot;: &quot;-&quot;, &quot;type&quot;: 10, &quot;way_points&quot;: [54, 54]}]}, {&quot;distance&quot;: 1102.2, &quot;duration&quot;: 793.6, &quot;steps&quot;: [{&quot;distance&quot;: 349.9, &quot;duration&quot;: 251.9, &quot;instruction&quot;: &quot;Head west on Passatde del Dr. Ros&quot;, &quot;name&quot;: &quot;Passatde del Dr. Ros&quot;, &quot;type&quot;: 11, &quot;way_points&quot;: [54, 63]}, {&quot;distance&quot;: 29.2, &quot;duration&quot;: 21.0, &quot;instruction&quot;: &quot;Turn right onto Pla\\u00e7a de les Palmeres&quot;, &quot;name&quot;: &quot;Pla\\u00e7a de les Palmeres&quot;, &quot;type&quot;: 1, &quot;way_points&quot;: [63, 65]}, {&quot;distance&quot;: 723.2, &quot;duration&quot;: 520.7, &quot;instruction&quot;: &quot;Continue straight onto Carrer del Doctor Reig&quot;, &quot;name&quot;: &quot;Carrer del Doctor Reig&quot;, &quot;type&quot;: 6, &quot;way_points&quot;: [65, 79]}, {&quot;distance&quot;: 0.0, &quot;duration&quot;: 0.0, &quot;instruction&quot;: &quot;Arrive at Carrer del Doctor Reig, on the right&quot;, &quot;name&quot;: &quot;-&quot;, &quot;type&quot;: 10, &quot;way_points&quot;: [79, 79]}]}], &quot;style&quot;: {}, &quot;summary&quot;: {&quot;distance&quot;: 2260.3, &quot;duration&quot;: 1627.4}, &quot;way_points&quot;: [0, 54, 79]}, &quot;type&quot;: &quot;Feature&quot;}], &quot;metadata&quot;: {&quot;attribution&quot;: &quot;openrouteservice.org | OpenStreetMap contributors&quot;, &quot;engine&quot;: {&quot;build_date&quot;: &quot;2022-02-18T19:37:41Z&quot;, &quot;graph_date&quot;: &quot;2022-05-03T06:30:15Z&quot;, &quot;version&quot;: &quot;6.7.0&quot;}, &quot;query&quot;: {&quot;coordinates&quot;: [[2.026934, 41.308], [2.020449, 41.316189], [2.011119, 41.320853]], &quot;format&quot;: &quot;geojson&quot;, &quot;profile&quot;: &quot;foot-walking&quot;}, &quot;service&quot;: &quot;routing&quot;, &quot;timestamp&quot;: 1653591283392}, &quot;type&quot;: &quot;FeatureCollection&quot;},\n",
              "            {\n",
              "            }\n",
              "        ).addTo(map_24299331ae3d543290866f1c36c9aefe );\n",
              "        geo_json_018e2789b337f15e15c25aec972a30de.setStyle(function(feature) {return feature.properties.style;});\n",
              "        \n",
              "    \n",
              "            var layer_control_afa7e944221d261acb47dd9dca0bcf2f = {\n",
              "                base_layers : { &quot;openstreetmap&quot; : tile_layer_097bed327f88cb10e546997d777e8417, },\n",
              "                overlays : { &quot;Cami Del Mar&quot; : geo_json_018e2789b337f15e15c25aec972a30de, }\n",
              "                };\n",
              "            L.control.layers(\n",
              "                layer_control_afa7e944221d261acb47dd9dca0bcf2f.base_layers,\n",
              "                layer_control_afa7e944221d261acb47dd9dca0bcf2f.overlays,\n",
              "                {position: &#x27;topright&#x27;,\n",
              "                 collapsed: true,\n",
              "                 autoZIndex: true\n",
              "                }).addTo(map_24299331ae3d543290866f1c36c9aefe);\n",
              "            \n",
              "        \n",
              "&lt;/script&gt;\" style=\"position:absolute;width:100%;height:100%;left:0;top:0;border:none !important;\" allowfullscreen webkitallowfullscreen mozallowfullscreen></iframe></div></div>"
            ]
          },
          "metadata": {},
          "execution_count": 42
        }
      ]
    }
  ]
}